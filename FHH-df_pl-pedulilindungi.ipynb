{
 "cells": [
  {
   "cell_type": "code",
   "execution_count": 1,
   "id": "43b7809c",
   "metadata": {},
   "outputs": [],
   "source": [
    "import pandas as pd"
   ]
  },
  {
   "cell_type": "code",
   "execution_count": 2,
   "id": "256e8527",
   "metadata": {},
   "outputs": [],
   "source": [
    "df_pl=pd.read_csv('Peduli_Lindungi_Checkin_Hackathon.csv')"
   ]
  },
  {
   "cell_type": "code",
   "execution_count": 3,
   "id": "732536a5",
   "metadata": {},
   "outputs": [
    {
     "data": {
      "text/html": [
       "<div>\n",
       "<style scoped>\n",
       "    .dataframe tbody tr th:only-of-type {\n",
       "        vertical-align: middle;\n",
       "    }\n",
       "\n",
       "    .dataframe tbody tr th {\n",
       "        vertical-align: top;\n",
       "    }\n",
       "\n",
       "    .dataframe thead th {\n",
       "        text-align: right;\n",
       "    }\n",
       "</style>\n",
       "<table border=\"1\" class=\"dataframe\">\n",
       "  <thead>\n",
       "    <tr style=\"text-align: right;\">\n",
       "      <th></th>\n",
       "      <th>nik_hashed</th>\n",
       "      <th>user_covid19_status</th>\n",
       "      <th>gender</th>\n",
       "      <th>checkin_timestamp</th>\n",
       "      <th>checkout_timestamp</th>\n",
       "      <th>province_dagri_code</th>\n",
       "      <th>province_name</th>\n",
       "      <th>city_dagri_code</th>\n",
       "      <th>city_name</th>\n",
       "      <th>outlet_category</th>\n",
       "      <th>outlet_sub_category</th>\n",
       "      <th>user_color_status</th>\n",
       "    </tr>\n",
       "  </thead>\n",
       "  <tbody>\n",
       "    <tr>\n",
       "      <th>0</th>\n",
       "      <td>93e255c026f7f4ed4a663daf884daac4a3caec8e569f4e...</td>\n",
       "      <td>NOT POSITIVE</td>\n",
       "      <td>MALE</td>\n",
       "      <td>2022-03-28 12:24:26 UTC</td>\n",
       "      <td>2022-03-28 12:40:57 UTC</td>\n",
       "      <td>34</td>\n",
       "      <td>DAERAH ISTIMEWA YOGYAKARTA</td>\n",
       "      <td>3404</td>\n",
       "      <td>KAB. SLEMAN</td>\n",
       "      <td>PERBELANJAAN</td>\n",
       "      <td>MALL</td>\n",
       "      <td>GREEN</td>\n",
       "    </tr>\n",
       "    <tr>\n",
       "      <th>1</th>\n",
       "      <td>0fdffd869355f5473f4ef62a18ba15ae49aaa6131be12d...</td>\n",
       "      <td>NOT POSITIVE</td>\n",
       "      <td>FEMALE</td>\n",
       "      <td>2022-03-28 12:26:16 UTC</td>\n",
       "      <td>2022-03-28 17:59:50 UTC</td>\n",
       "      <td>32</td>\n",
       "      <td>JAWA BARAT</td>\n",
       "      <td>3201</td>\n",
       "      <td>KAB. BOGOR</td>\n",
       "      <td>MAKANAN &amp; MINUMAN</td>\n",
       "      <td>RESTORAN</td>\n",
       "      <td>GREEN</td>\n",
       "    </tr>\n",
       "    <tr>\n",
       "      <th>2</th>\n",
       "      <td>2b84a93837c40487dc60b0a02b9f5e7db5c6519c4d95d2...</td>\n",
       "      <td>NOT POSITIVE</td>\n",
       "      <td>MALE</td>\n",
       "      <td>2022-03-28 12:52:00 UTC</td>\n",
       "      <td>2022-03-28 13:55:52 UTC</td>\n",
       "      <td>16</td>\n",
       "      <td>SUMATERA SELATAN</td>\n",
       "      <td>1671</td>\n",
       "      <td>KOTA PALEMBANG</td>\n",
       "      <td>PERBELANJAAN</td>\n",
       "      <td>MALL</td>\n",
       "      <td>GREEN</td>\n",
       "    </tr>\n",
       "    <tr>\n",
       "      <th>3</th>\n",
       "      <td>681b4354b148a8424a69a8956a06d840b2fccd0d79821f...</td>\n",
       "      <td>NOT POSITIVE</td>\n",
       "      <td>MALE</td>\n",
       "      <td>2022-03-28 12:53:13 UTC</td>\n",
       "      <td>2022-03-28 13:28:30 UTC</td>\n",
       "      <td>34</td>\n",
       "      <td>DAERAH ISTIMEWA YOGYAKARTA</td>\n",
       "      <td>3404</td>\n",
       "      <td>KAB. SLEMAN</td>\n",
       "      <td>PERBELANJAAN</td>\n",
       "      <td>MALL</td>\n",
       "      <td>GREEN</td>\n",
       "    </tr>\n",
       "    <tr>\n",
       "      <th>4</th>\n",
       "      <td>965891cbdd3406e1f421361874fdbe3550c52b6647923f...</td>\n",
       "      <td>NOT POSITIVE</td>\n",
       "      <td>MALE</td>\n",
       "      <td>2022-03-28 12:55:17 UTC</td>\n",
       "      <td>2022-03-28 12:55:22 UTC</td>\n",
       "      <td>32</td>\n",
       "      <td>JAWA BARAT</td>\n",
       "      <td>3271</td>\n",
       "      <td>KOTA BOGOR</td>\n",
       "      <td>PERBELANJAAN</td>\n",
       "      <td>MALL</td>\n",
       "      <td>GREEN</td>\n",
       "    </tr>\n",
       "  </tbody>\n",
       "</table>\n",
       "</div>"
      ],
      "text/plain": [
       "                                          nik_hashed user_covid19_status  \\\n",
       "0  93e255c026f7f4ed4a663daf884daac4a3caec8e569f4e...        NOT POSITIVE   \n",
       "1  0fdffd869355f5473f4ef62a18ba15ae49aaa6131be12d...        NOT POSITIVE   \n",
       "2  2b84a93837c40487dc60b0a02b9f5e7db5c6519c4d95d2...        NOT POSITIVE   \n",
       "3  681b4354b148a8424a69a8956a06d840b2fccd0d79821f...        NOT POSITIVE   \n",
       "4  965891cbdd3406e1f421361874fdbe3550c52b6647923f...        NOT POSITIVE   \n",
       "\n",
       "   gender        checkin_timestamp       checkout_timestamp  \\\n",
       "0    MALE  2022-03-28 12:24:26 UTC  2022-03-28 12:40:57 UTC   \n",
       "1  FEMALE  2022-03-28 12:26:16 UTC  2022-03-28 17:59:50 UTC   \n",
       "2    MALE  2022-03-28 12:52:00 UTC  2022-03-28 13:55:52 UTC   \n",
       "3    MALE  2022-03-28 12:53:13 UTC  2022-03-28 13:28:30 UTC   \n",
       "4    MALE  2022-03-28 12:55:17 UTC  2022-03-28 12:55:22 UTC   \n",
       "\n",
       "   province_dagri_code               province_name  city_dagri_code  \\\n",
       "0                   34  DAERAH ISTIMEWA YOGYAKARTA             3404   \n",
       "1                   32                  JAWA BARAT             3201   \n",
       "2                   16            SUMATERA SELATAN             1671   \n",
       "3                   34  DAERAH ISTIMEWA YOGYAKARTA             3404   \n",
       "4                   32                  JAWA BARAT             3271   \n",
       "\n",
       "        city_name    outlet_category outlet_sub_category user_color_status  \n",
       "0     KAB. SLEMAN       PERBELANJAAN                MALL             GREEN  \n",
       "1      KAB. BOGOR  MAKANAN & MINUMAN            RESTORAN             GREEN  \n",
       "2  KOTA PALEMBANG       PERBELANJAAN                MALL             GREEN  \n",
       "3     KAB. SLEMAN       PERBELANJAAN                MALL             GREEN  \n",
       "4      KOTA BOGOR       PERBELANJAAN                MALL             GREEN  "
      ]
     },
     "execution_count": 3,
     "metadata": {},
     "output_type": "execute_result"
    }
   ],
   "source": [
    "df_pl.head()"
   ]
  },
  {
   "cell_type": "code",
   "execution_count": 4,
   "id": "a198224b",
   "metadata": {},
   "outputs": [
    {
     "name": "stdout",
     "output_type": "stream",
     "text": [
      "<class 'pandas.core.frame.DataFrame'>\n",
      "RangeIndex: 1048575 entries, 0 to 1048574\n",
      "Data columns (total 12 columns):\n",
      " #   Column               Non-Null Count    Dtype \n",
      "---  ------               --------------    ----- \n",
      " 0   nik_hashed           1048575 non-null  object\n",
      " 1   user_covid19_status  1048575 non-null  object\n",
      " 2   gender               1045898 non-null  object\n",
      " 3   checkin_timestamp    1048575 non-null  object\n",
      " 4   checkout_timestamp   546680 non-null   object\n",
      " 5   province_dagri_code  1048575 non-null  int64 \n",
      " 6   province_name        1048575 non-null  object\n",
      " 7   city_dagri_code      1048575 non-null  int64 \n",
      " 8   city_name            1048575 non-null  object\n",
      " 9   outlet_category      1037474 non-null  object\n",
      " 10  outlet_sub_category  1038082 non-null  object\n",
      " 11  user_color_status    1048575 non-null  object\n",
      "dtypes: int64(2), object(10)\n",
      "memory usage: 96.0+ MB\n"
     ]
    }
   ],
   "source": [
    "df_pl.info()"
   ]
  },
  {
   "cell_type": "code",
   "execution_count": 5,
   "id": "0cf89bea",
   "metadata": {},
   "outputs": [
    {
     "data": {
      "text/plain": [
       "Index(['nik_hashed', 'user_covid19_status', 'gender', 'checkin_timestamp',\n",
       "       'checkout_timestamp', 'province_dagri_code', 'province_name',\n",
       "       'city_dagri_code', 'city_name', 'outlet_category',\n",
       "       'outlet_sub_category', 'user_color_status'],\n",
       "      dtype='object')"
      ]
     },
     "execution_count": 5,
     "metadata": {},
     "output_type": "execute_result"
    }
   ],
   "source": [
    "df_pl.columns"
   ]
  },
  {
   "cell_type": "code",
   "execution_count": 6,
   "id": "cf0eb58c",
   "metadata": {},
   "outputs": [],
   "source": [
    "import warnings\n",
    "warnings.filterwarnings('ignore')"
   ]
  },
  {
   "cell_type": "code",
   "execution_count": 7,
   "id": "191ea0ca",
   "metadata": {},
   "outputs": [
    {
     "data": {
      "text/plain": [
       "NOT POSITIVE    1048575\n",
       "Name: user_covid19_status, dtype: int64"
      ]
     },
     "execution_count": 7,
     "metadata": {},
     "output_type": "execute_result"
    }
   ],
   "source": [
    "df_pl.user_covid19_status.value_counts()"
   ]
  },
  {
   "cell_type": "code",
   "execution_count": 8,
   "id": "51d1e824",
   "metadata": {},
   "outputs": [],
   "source": [
    "del df_pl['user_covid19_status']"
   ]
  },
  {
   "cell_type": "code",
   "execution_count": 9,
   "id": "75e092f6",
   "metadata": {},
   "outputs": [],
   "source": [
    "del df_pl['nik_hashed']"
   ]
  },
  {
   "cell_type": "code",
   "execution_count": 10,
   "id": "533af517",
   "metadata": {},
   "outputs": [
    {
     "data": {
      "text/plain": [
       "MALE      935632\n",
       "FEMALE    110266\n",
       "Name: gender, dtype: int64"
      ]
     },
     "execution_count": 10,
     "metadata": {},
     "output_type": "execute_result"
    }
   ],
   "source": [
    "df_pl.gender.value_counts()"
   ]
  },
  {
   "cell_type": "code",
   "execution_count": 11,
   "id": "1eceb216",
   "metadata": {},
   "outputs": [
    {
     "data": {
      "text/plain": [
       "DKI JAKARTA                   685934\n",
       "BANTEN                        129728\n",
       "JAWA BARAT                    105133\n",
       "JAWA TIMUR                     84378\n",
       "BALI                           26200\n",
       "JAWA TENGAH                     8546\n",
       "DAERAH ISTIMEWA YOGYAKARTA      2503\n",
       "SUMATERA SELATAN                1855\n",
       "SUMATERA UTARA                  1697\n",
       "RIAU                            1158\n",
       "KEPULAUAN RIAU                   627\n",
       "KALIMANTAN TIMUR                 593\n",
       "KALIMANTAN BARAT                  77\n",
       "KALIMANTAN TENGAH                 39\n",
       "SULAWESI SELATAN                  37\n",
       "NUSA TENGGARA BARAT               24\n",
       "SULAWESI TENGGARA                 17\n",
       "NUSA TENGGARA TIMUR               15\n",
       "LAMPUNG                            8\n",
       "JAMBI                              3\n",
       "KEPULAUAN BANGKA BELITUNG          2\n",
       "PAPUA BARAT                        1\n",
       "Name: province_name, dtype: int64"
      ]
     },
     "execution_count": 11,
     "metadata": {},
     "output_type": "execute_result"
    }
   ],
   "source": [
    "df_pl.province_name.value_counts()"
   ]
  },
  {
   "cell_type": "code",
   "execution_count": 12,
   "id": "d4f72d8c",
   "metadata": {},
   "outputs": [
    {
     "data": {
      "text/plain": [
       "KOTA ADM. JAKARTA BARAT    345075\n",
       "KOTA ADM. JAKARTA PUSAT    296752\n",
       "KAB. TANGERANG              96744\n",
       "KOTA SURABAYA               80188\n",
       "KOTA BEKASI                 54175\n",
       "                            ...  \n",
       "KOTA PEKALONGAN                 1\n",
       "KAB. MANOKWARI                  1\n",
       "KAB. BANYUWANGI                 1\n",
       "KOTA BINJAI                     1\n",
       "KOTA MOJOKERTO                  1\n",
       "Name: city_name, Length: 97, dtype: int64"
      ]
     },
     "execution_count": 12,
     "metadata": {},
     "output_type": "execute_result"
    }
   ],
   "source": [
    "df_pl.city_name.value_counts()"
   ]
  },
  {
   "cell_type": "code",
   "execution_count": 13,
   "id": "878499b4",
   "metadata": {},
   "outputs": [],
   "source": [
    "del df_pl['city_name']\n",
    "del df_pl['city_dagri_code']\n",
    "del df_pl['province_dagri_code']"
   ]
  },
  {
   "cell_type": "code",
   "execution_count": 14,
   "id": "fd5239ba",
   "metadata": {},
   "outputs": [
    {
     "data": {
      "text/plain": [
       "PERBELANJAAN              876890\n",
       "PERKANTORAN                75407\n",
       "SARANA TRANSPORTASI        45250\n",
       "INDUSTRI                   15894\n",
       "AKOMODASI                   8409\n",
       "MAKANAN & MINUMAN           5840\n",
       "SARANA OLAHRAGA             3646\n",
       "SARANA HIBURAN              2560\n",
       "FASILITAS KESEHATAN         2183\n",
       "INSTITUSI PENDIDIKAN         985\n",
       "TEMPAT IBADAH                406\n",
       "KECANTIKAN & RELAKSASI         4\n",
       "Name: outlet_category, dtype: int64"
      ]
     },
     "execution_count": 14,
     "metadata": {},
     "output_type": "execute_result"
    }
   ],
   "source": [
    "df_pl.outlet_category.value_counts()"
   ]
  },
  {
   "cell_type": "code",
   "execution_count": 15,
   "id": "eceefb5e",
   "metadata": {},
   "outputs": [
    {
     "data": {
      "text/plain": [
       "GREEN     1006944\n",
       "YELLOW      40722\n",
       "RED           861\n",
       "BLACK          48\n",
       "Name: user_color_status, dtype: int64"
      ]
     },
     "execution_count": 15,
     "metadata": {},
     "output_type": "execute_result"
    }
   ],
   "source": [
    "df_pl.user_color_status.value_counts()"
   ]
  },
  {
   "cell_type": "code",
   "execution_count": 16,
   "id": "88670cda",
   "metadata": {},
   "outputs": [
    {
     "data": {
      "text/plain": [
       "MALL                              868761\n",
       "GEDUNG PERKANTORAN SWASTA          61257\n",
       "STASIUN                            45069\n",
       "PABRIK / REFINERY / PEMBANGKIT     15493\n",
       "KANTOR BUMN                         9315\n",
       "                                   ...  \n",
       "GALERI SENI                            1\n",
       "SPA                                    1\n",
       "LABORATORIUM                           1\n",
       "LEMBAGA KURSUS                         1\n",
       "AKOMODASI                              1\n",
       "Name: outlet_sub_category, Length: 62, dtype: int64"
      ]
     },
     "execution_count": 16,
     "metadata": {},
     "output_type": "execute_result"
    }
   ],
   "source": [
    "df_pl.outlet_sub_category.value_counts()"
   ]
  },
  {
   "cell_type": "code",
   "execution_count": 17,
   "id": "342217e5",
   "metadata": {},
   "outputs": [],
   "source": [
    "del df_pl['outlet_sub_category']"
   ]
  },
  {
   "cell_type": "code",
   "execution_count": 19,
   "id": "af1488df",
   "metadata": {},
   "outputs": [
    {
     "data": {
      "text/html": [
       "<div>\n",
       "<style scoped>\n",
       "    .dataframe tbody tr th:only-of-type {\n",
       "        vertical-align: middle;\n",
       "    }\n",
       "\n",
       "    .dataframe tbody tr th {\n",
       "        vertical-align: top;\n",
       "    }\n",
       "\n",
       "    .dataframe thead th {\n",
       "        text-align: right;\n",
       "    }\n",
       "</style>\n",
       "<table border=\"1\" class=\"dataframe\">\n",
       "  <thead>\n",
       "    <tr style=\"text-align: right;\">\n",
       "      <th></th>\n",
       "      <th>gender</th>\n",
       "      <th>checkin_timestamp</th>\n",
       "      <th>checkout_timestamp</th>\n",
       "      <th>province_name</th>\n",
       "      <th>outlet_category</th>\n",
       "      <th>user_color_status</th>\n",
       "    </tr>\n",
       "  </thead>\n",
       "  <tbody>\n",
       "    <tr>\n",
       "      <th>0</th>\n",
       "      <td>MALE</td>\n",
       "      <td>2022-03-28 12:24:26 UTC</td>\n",
       "      <td>2022-03-28 12:40:57 UTC</td>\n",
       "      <td>DAERAH ISTIMEWA YOGYAKARTA</td>\n",
       "      <td>PERBELANJAAN</td>\n",
       "      <td>GREEN</td>\n",
       "    </tr>\n",
       "    <tr>\n",
       "      <th>1</th>\n",
       "      <td>FEMALE</td>\n",
       "      <td>2022-03-28 12:26:16 UTC</td>\n",
       "      <td>2022-03-28 17:59:50 UTC</td>\n",
       "      <td>JAWA BARAT</td>\n",
       "      <td>MAKANAN &amp; MINUMAN</td>\n",
       "      <td>GREEN</td>\n",
       "    </tr>\n",
       "    <tr>\n",
       "      <th>2</th>\n",
       "      <td>MALE</td>\n",
       "      <td>2022-03-28 12:52:00 UTC</td>\n",
       "      <td>2022-03-28 13:55:52 UTC</td>\n",
       "      <td>SUMATERA SELATAN</td>\n",
       "      <td>PERBELANJAAN</td>\n",
       "      <td>GREEN</td>\n",
       "    </tr>\n",
       "    <tr>\n",
       "      <th>3</th>\n",
       "      <td>MALE</td>\n",
       "      <td>2022-03-28 12:53:13 UTC</td>\n",
       "      <td>2022-03-28 13:28:30 UTC</td>\n",
       "      <td>DAERAH ISTIMEWA YOGYAKARTA</td>\n",
       "      <td>PERBELANJAAN</td>\n",
       "      <td>GREEN</td>\n",
       "    </tr>\n",
       "    <tr>\n",
       "      <th>4</th>\n",
       "      <td>MALE</td>\n",
       "      <td>2022-03-28 12:55:17 UTC</td>\n",
       "      <td>2022-03-28 12:55:22 UTC</td>\n",
       "      <td>JAWA BARAT</td>\n",
       "      <td>PERBELANJAAN</td>\n",
       "      <td>GREEN</td>\n",
       "    </tr>\n",
       "  </tbody>\n",
       "</table>\n",
       "</div>"
      ],
      "text/plain": [
       "   gender        checkin_timestamp       checkout_timestamp  \\\n",
       "0    MALE  2022-03-28 12:24:26 UTC  2022-03-28 12:40:57 UTC   \n",
       "1  FEMALE  2022-03-28 12:26:16 UTC  2022-03-28 17:59:50 UTC   \n",
       "2    MALE  2022-03-28 12:52:00 UTC  2022-03-28 13:55:52 UTC   \n",
       "3    MALE  2022-03-28 12:53:13 UTC  2022-03-28 13:28:30 UTC   \n",
       "4    MALE  2022-03-28 12:55:17 UTC  2022-03-28 12:55:22 UTC   \n",
       "\n",
       "                province_name    outlet_category user_color_status  \n",
       "0  DAERAH ISTIMEWA YOGYAKARTA       PERBELANJAAN             GREEN  \n",
       "1                  JAWA BARAT  MAKANAN & MINUMAN             GREEN  \n",
       "2            SUMATERA SELATAN       PERBELANJAAN             GREEN  \n",
       "3  DAERAH ISTIMEWA YOGYAKARTA       PERBELANJAAN             GREEN  \n",
       "4                  JAWA BARAT       PERBELANJAAN             GREEN  "
      ]
     },
     "execution_count": 19,
     "metadata": {},
     "output_type": "execute_result"
    }
   ],
   "source": [
    "obj_cols = df_pl.select_dtypes('object').columns\n",
    "df_pl[obj_cols].head()"
   ]
  },
  {
   "cell_type": "code",
   "execution_count": 20,
   "id": "1a7e5978",
   "metadata": {},
   "outputs": [
    {
     "data": {
      "text/plain": [
       "gender                  2677\n",
       "checkin_timestamp          0\n",
       "checkout_timestamp    501895\n",
       "province_name              0\n",
       "outlet_category        11101\n",
       "user_color_status          0\n",
       "dtype: int64"
      ]
     },
     "execution_count": 20,
     "metadata": {},
     "output_type": "execute_result"
    }
   ],
   "source": [
    "df_pl[obj_cols].isna().sum()"
   ]
  },
  {
   "cell_type": "code",
   "execution_count": 21,
   "id": "7bc9cec6",
   "metadata": {},
   "outputs": [],
   "source": [
    "del df_pl['checkout_timestamp']"
   ]
  },
  {
   "cell_type": "code",
   "execution_count": 22,
   "id": "1b3c45bc",
   "metadata": {},
   "outputs": [],
   "source": [
    "df_pl['outlet_category'] = df_pl['outlet_category'].fillna('MALL')"
   ]
  },
  {
   "cell_type": "code",
   "execution_count": 23,
   "id": "257db931",
   "metadata": {},
   "outputs": [],
   "source": [
    "df_pl['gender'] = df_pl['gender'].fillna('MALE')"
   ]
  },
  {
   "cell_type": "code",
   "execution_count": 25,
   "id": "b767a76b",
   "metadata": {},
   "outputs": [
    {
     "data": {
      "text/html": [
       "<div>\n",
       "<style scoped>\n",
       "    .dataframe tbody tr th:only-of-type {\n",
       "        vertical-align: middle;\n",
       "    }\n",
       "\n",
       "    .dataframe tbody tr th {\n",
       "        vertical-align: top;\n",
       "    }\n",
       "\n",
       "    .dataframe thead th {\n",
       "        text-align: right;\n",
       "    }\n",
       "</style>\n",
       "<table border=\"1\" class=\"dataframe\">\n",
       "  <thead>\n",
       "    <tr style=\"text-align: right;\">\n",
       "      <th></th>\n",
       "      <th>gender</th>\n",
       "      <th>checkin_timestamp</th>\n",
       "      <th>province_name</th>\n",
       "      <th>outlet_category</th>\n",
       "      <th>user_color_status</th>\n",
       "    </tr>\n",
       "  </thead>\n",
       "  <tbody>\n",
       "    <tr>\n",
       "      <th>0</th>\n",
       "      <td>MALE</td>\n",
       "      <td>2022-03-28 12:24:26 UTC</td>\n",
       "      <td>DAERAH ISTIMEWA YOGYAKARTA</td>\n",
       "      <td>PERBELANJAAN</td>\n",
       "      <td>GREEN</td>\n",
       "    </tr>\n",
       "    <tr>\n",
       "      <th>1</th>\n",
       "      <td>FEMALE</td>\n",
       "      <td>2022-03-28 12:26:16 UTC</td>\n",
       "      <td>JAWA BARAT</td>\n",
       "      <td>MAKANAN &amp; MINUMAN</td>\n",
       "      <td>GREEN</td>\n",
       "    </tr>\n",
       "    <tr>\n",
       "      <th>2</th>\n",
       "      <td>MALE</td>\n",
       "      <td>2022-03-28 12:52:00 UTC</td>\n",
       "      <td>SUMATERA SELATAN</td>\n",
       "      <td>PERBELANJAAN</td>\n",
       "      <td>GREEN</td>\n",
       "    </tr>\n",
       "    <tr>\n",
       "      <th>3</th>\n",
       "      <td>MALE</td>\n",
       "      <td>2022-03-28 12:53:13 UTC</td>\n",
       "      <td>DAERAH ISTIMEWA YOGYAKARTA</td>\n",
       "      <td>PERBELANJAAN</td>\n",
       "      <td>GREEN</td>\n",
       "    </tr>\n",
       "    <tr>\n",
       "      <th>4</th>\n",
       "      <td>MALE</td>\n",
       "      <td>2022-03-28 12:55:17 UTC</td>\n",
       "      <td>JAWA BARAT</td>\n",
       "      <td>PERBELANJAAN</td>\n",
       "      <td>GREEN</td>\n",
       "    </tr>\n",
       "  </tbody>\n",
       "</table>\n",
       "</div>"
      ],
      "text/plain": [
       "   gender        checkin_timestamp               province_name  \\\n",
       "0    MALE  2022-03-28 12:24:26 UTC  DAERAH ISTIMEWA YOGYAKARTA   \n",
       "1  FEMALE  2022-03-28 12:26:16 UTC                  JAWA BARAT   \n",
       "2    MALE  2022-03-28 12:52:00 UTC            SUMATERA SELATAN   \n",
       "3    MALE  2022-03-28 12:53:13 UTC  DAERAH ISTIMEWA YOGYAKARTA   \n",
       "4    MALE  2022-03-28 12:55:17 UTC                  JAWA BARAT   \n",
       "\n",
       "     outlet_category user_color_status  \n",
       "0       PERBELANJAAN             GREEN  \n",
       "1  MAKANAN & MINUMAN             GREEN  \n",
       "2       PERBELANJAAN             GREEN  \n",
       "3       PERBELANJAAN             GREEN  \n",
       "4       PERBELANJAAN             GREEN  "
      ]
     },
     "execution_count": 25,
     "metadata": {},
     "output_type": "execute_result"
    }
   ],
   "source": [
    "obj_cols = df_pl.select_dtypes('object').columns\n",
    "df_pl[obj_cols].head()"
   ]
  },
  {
   "cell_type": "code",
   "execution_count": 26,
   "id": "13b2cce6",
   "metadata": {},
   "outputs": [
    {
     "data": {
      "text/plain": [
       "gender               0\n",
       "checkin_timestamp    0\n",
       "province_name        0\n",
       "outlet_category      0\n",
       "user_color_status    0\n",
       "dtype: int64"
      ]
     },
     "execution_count": 26,
     "metadata": {},
     "output_type": "execute_result"
    }
   ],
   "source": [
    "df_pl[obj_cols].isna().sum()"
   ]
  },
  {
   "cell_type": "code",
   "execution_count": 29,
   "id": "05edd23e",
   "metadata": {},
   "outputs": [],
   "source": [
    "df_pl['checkin_timestamp'] = pd.to_datetime(df_pl['checkin_timestamp'])"
   ]
  },
  {
   "cell_type": "code",
   "execution_count": 35,
   "id": "741450f5",
   "metadata": {},
   "outputs": [],
   "source": [
    "df_pl['checkin_tanggal']= df_pl['checkin_timestamp'].dt.date"
   ]
  },
  {
   "cell_type": "code",
   "execution_count": 44,
   "id": "66893d62",
   "metadata": {},
   "outputs": [
    {
     "name": "stdout",
     "output_type": "stream",
     "text": [
      "<class 'pandas.core.series.Series'>\n",
      "RangeIndex: 1048575 entries, 0 to 1048574\n",
      "Series name: checkin_tanggal\n",
      "Non-Null Count    Dtype \n",
      "--------------    ----- \n",
      "1048575 non-null  object\n",
      "dtypes: object(1)\n",
      "memory usage: 8.0+ MB\n"
     ]
    }
   ],
   "source": [
    "df_pl['checkin_tanggal'].info()"
   ]
  },
  {
   "cell_type": "code",
   "execution_count": 50,
   "id": "56b8f8c7",
   "metadata": {},
   "outputs": [
    {
     "ename": "TypeError",
     "evalue": "Only valid with DatetimeIndex, TimedeltaIndex or PeriodIndex, but got an instance of 'RangeIndex'",
     "output_type": "error",
     "traceback": [
      "\u001b[1;31m---------------------------------------------------------------------------\u001b[0m",
      "\u001b[1;31mTypeError\u001b[0m                                 Traceback (most recent call last)",
      "Input \u001b[1;32mIn [50]\u001b[0m, in \u001b[0;36m<cell line: 1>\u001b[1;34m()\u001b[0m\n\u001b[1;32m----> 1\u001b[0m df_bulan\u001b[38;5;241m=\u001b[39m  \u001b[43mdf_pl\u001b[49m\u001b[43m[\u001b[49m\u001b[38;5;124;43m'\u001b[39;49m\u001b[38;5;124;43mcheckin_timestamp\u001b[39;49m\u001b[38;5;124;43m'\u001b[39;49m\u001b[43m]\u001b[49m\u001b[38;5;241;43m.\u001b[39;49m\u001b[43mgroupby\u001b[49m\u001b[43m(\u001b[49m\u001b[43mpd\u001b[49m\u001b[38;5;241;43m.\u001b[39;49m\u001b[43mGrouper\u001b[49m\u001b[43m(\u001b[49m\u001b[43mfreq\u001b[49m\u001b[38;5;241;43m=\u001b[39;49m\u001b[38;5;124;43m\"\u001b[39;49m\u001b[38;5;124;43mM\u001b[39;49m\u001b[38;5;124;43m\"\u001b[39;49m\u001b[43m)\u001b[49m\u001b[43m)\u001b[49m\n",
      "File \u001b[1;32mC:\\ProgramData\\Anaconda3\\lib\\site-packages\\pandas\\core\\series.py:1922\u001b[0m, in \u001b[0;36mSeries.groupby\u001b[1;34m(self, by, axis, level, as_index, sort, group_keys, squeeze, observed, dropna)\u001b[0m\n\u001b[0;32m   1918\u001b[0m axis \u001b[38;5;241m=\u001b[39m \u001b[38;5;28mself\u001b[39m\u001b[38;5;241m.\u001b[39m_get_axis_number(axis)\n\u001b[0;32m   1920\u001b[0m \u001b[38;5;66;03m# error: Argument \"squeeze\" to \"SeriesGroupBy\" has incompatible type\u001b[39;00m\n\u001b[0;32m   1921\u001b[0m \u001b[38;5;66;03m# \"Union[bool, NoDefault]\"; expected \"bool\"\u001b[39;00m\n\u001b[1;32m-> 1922\u001b[0m \u001b[38;5;28;01mreturn\u001b[39;00m \u001b[43mSeriesGroupBy\u001b[49m\u001b[43m(\u001b[49m\n\u001b[0;32m   1923\u001b[0m \u001b[43m    \u001b[49m\u001b[43mobj\u001b[49m\u001b[38;5;241;43m=\u001b[39;49m\u001b[38;5;28;43mself\u001b[39;49m\u001b[43m,\u001b[49m\n\u001b[0;32m   1924\u001b[0m \u001b[43m    \u001b[49m\u001b[43mkeys\u001b[49m\u001b[38;5;241;43m=\u001b[39;49m\u001b[43mby\u001b[49m\u001b[43m,\u001b[49m\n\u001b[0;32m   1925\u001b[0m \u001b[43m    \u001b[49m\u001b[43maxis\u001b[49m\u001b[38;5;241;43m=\u001b[39;49m\u001b[43maxis\u001b[49m\u001b[43m,\u001b[49m\n\u001b[0;32m   1926\u001b[0m \u001b[43m    \u001b[49m\u001b[43mlevel\u001b[49m\u001b[38;5;241;43m=\u001b[39;49m\u001b[43mlevel\u001b[49m\u001b[43m,\u001b[49m\n\u001b[0;32m   1927\u001b[0m \u001b[43m    \u001b[49m\u001b[43mas_index\u001b[49m\u001b[38;5;241;43m=\u001b[39;49m\u001b[43mas_index\u001b[49m\u001b[43m,\u001b[49m\n\u001b[0;32m   1928\u001b[0m \u001b[43m    \u001b[49m\u001b[43msort\u001b[49m\u001b[38;5;241;43m=\u001b[39;49m\u001b[43msort\u001b[49m\u001b[43m,\u001b[49m\n\u001b[0;32m   1929\u001b[0m \u001b[43m    \u001b[49m\u001b[43mgroup_keys\u001b[49m\u001b[38;5;241;43m=\u001b[39;49m\u001b[43mgroup_keys\u001b[49m\u001b[43m,\u001b[49m\n\u001b[0;32m   1930\u001b[0m \u001b[43m    \u001b[49m\u001b[43msqueeze\u001b[49m\u001b[38;5;241;43m=\u001b[39;49m\u001b[43msqueeze\u001b[49m\u001b[43m,\u001b[49m\u001b[43m  \u001b[49m\u001b[38;5;66;43;03m# type: ignore[arg-type]\u001b[39;49;00m\n\u001b[0;32m   1931\u001b[0m \u001b[43m    \u001b[49m\u001b[43mobserved\u001b[49m\u001b[38;5;241;43m=\u001b[39;49m\u001b[43mobserved\u001b[49m\u001b[43m,\u001b[49m\n\u001b[0;32m   1932\u001b[0m \u001b[43m    \u001b[49m\u001b[43mdropna\u001b[49m\u001b[38;5;241;43m=\u001b[39;49m\u001b[43mdropna\u001b[49m\u001b[43m,\u001b[49m\n\u001b[0;32m   1933\u001b[0m \u001b[43m\u001b[49m\u001b[43m)\u001b[49m\n",
      "File \u001b[1;32mC:\\ProgramData\\Anaconda3\\lib\\site-packages\\pandas\\core\\groupby\\groupby.py:882\u001b[0m, in \u001b[0;36mGroupBy.__init__\u001b[1;34m(self, obj, keys, axis, level, grouper, exclusions, selection, as_index, sort, group_keys, squeeze, observed, mutated, dropna)\u001b[0m\n\u001b[0;32m    879\u001b[0m \u001b[38;5;28;01mif\u001b[39;00m grouper \u001b[38;5;129;01mis\u001b[39;00m \u001b[38;5;28;01mNone\u001b[39;00m:\n\u001b[0;32m    880\u001b[0m     \u001b[38;5;28;01mfrom\u001b[39;00m \u001b[38;5;21;01mpandas\u001b[39;00m\u001b[38;5;21;01m.\u001b[39;00m\u001b[38;5;21;01mcore\u001b[39;00m\u001b[38;5;21;01m.\u001b[39;00m\u001b[38;5;21;01mgroupby\u001b[39;00m\u001b[38;5;21;01m.\u001b[39;00m\u001b[38;5;21;01mgrouper\u001b[39;00m \u001b[38;5;28;01mimport\u001b[39;00m get_grouper\n\u001b[1;32m--> 882\u001b[0m     grouper, exclusions, obj \u001b[38;5;241m=\u001b[39m \u001b[43mget_grouper\u001b[49m\u001b[43m(\u001b[49m\n\u001b[0;32m    883\u001b[0m \u001b[43m        \u001b[49m\u001b[43mobj\u001b[49m\u001b[43m,\u001b[49m\n\u001b[0;32m    884\u001b[0m \u001b[43m        \u001b[49m\u001b[43mkeys\u001b[49m\u001b[43m,\u001b[49m\n\u001b[0;32m    885\u001b[0m \u001b[43m        \u001b[49m\u001b[43maxis\u001b[49m\u001b[38;5;241;43m=\u001b[39;49m\u001b[43maxis\u001b[49m\u001b[43m,\u001b[49m\n\u001b[0;32m    886\u001b[0m \u001b[43m        \u001b[49m\u001b[43mlevel\u001b[49m\u001b[38;5;241;43m=\u001b[39;49m\u001b[43mlevel\u001b[49m\u001b[43m,\u001b[49m\n\u001b[0;32m    887\u001b[0m \u001b[43m        \u001b[49m\u001b[43msort\u001b[49m\u001b[38;5;241;43m=\u001b[39;49m\u001b[43msort\u001b[49m\u001b[43m,\u001b[49m\n\u001b[0;32m    888\u001b[0m \u001b[43m        \u001b[49m\u001b[43mobserved\u001b[49m\u001b[38;5;241;43m=\u001b[39;49m\u001b[43mobserved\u001b[49m\u001b[43m,\u001b[49m\n\u001b[0;32m    889\u001b[0m \u001b[43m        \u001b[49m\u001b[43mmutated\u001b[49m\u001b[38;5;241;43m=\u001b[39;49m\u001b[38;5;28;43mself\u001b[39;49m\u001b[38;5;241;43m.\u001b[39;49m\u001b[43mmutated\u001b[49m\u001b[43m,\u001b[49m\n\u001b[0;32m    890\u001b[0m \u001b[43m        \u001b[49m\u001b[43mdropna\u001b[49m\u001b[38;5;241;43m=\u001b[39;49m\u001b[38;5;28;43mself\u001b[39;49m\u001b[38;5;241;43m.\u001b[39;49m\u001b[43mdropna\u001b[49m\u001b[43m,\u001b[49m\n\u001b[0;32m    891\u001b[0m \u001b[43m    \u001b[49m\u001b[43m)\u001b[49m\n\u001b[0;32m    893\u001b[0m \u001b[38;5;28mself\u001b[39m\u001b[38;5;241m.\u001b[39mobj \u001b[38;5;241m=\u001b[39m obj\n\u001b[0;32m    894\u001b[0m \u001b[38;5;28mself\u001b[39m\u001b[38;5;241m.\u001b[39maxis \u001b[38;5;241m=\u001b[39m obj\u001b[38;5;241m.\u001b[39m_get_axis_number(axis)\n",
      "File \u001b[1;32mC:\\ProgramData\\Anaconda3\\lib\\site-packages\\pandas\\core\\groupby\\grouper.py:784\u001b[0m, in \u001b[0;36mget_grouper\u001b[1;34m(obj, key, axis, level, sort, observed, mutated, validate, dropna)\u001b[0m\n\u001b[0;32m    782\u001b[0m \u001b[38;5;66;03m# a passed-in Grouper, directly convert\u001b[39;00m\n\u001b[0;32m    783\u001b[0m \u001b[38;5;28;01mif\u001b[39;00m \u001b[38;5;28misinstance\u001b[39m(key, Grouper):\n\u001b[1;32m--> 784\u001b[0m     binner, grouper, obj \u001b[38;5;241m=\u001b[39m \u001b[43mkey\u001b[49m\u001b[38;5;241;43m.\u001b[39;49m\u001b[43m_get_grouper\u001b[49m\u001b[43m(\u001b[49m\u001b[43mobj\u001b[49m\u001b[43m,\u001b[49m\u001b[43m \u001b[49m\u001b[43mvalidate\u001b[49m\u001b[38;5;241;43m=\u001b[39;49m\u001b[38;5;28;43;01mFalse\u001b[39;49;00m\u001b[43m)\u001b[49m\n\u001b[0;32m    785\u001b[0m     \u001b[38;5;28;01mif\u001b[39;00m key\u001b[38;5;241m.\u001b[39mkey \u001b[38;5;129;01mis\u001b[39;00m \u001b[38;5;28;01mNone\u001b[39;00m:\n\u001b[0;32m    786\u001b[0m         \u001b[38;5;28;01mreturn\u001b[39;00m grouper, \u001b[38;5;28mfrozenset\u001b[39m(), obj\n",
      "File \u001b[1;32mC:\\ProgramData\\Anaconda3\\lib\\site-packages\\pandas\\core\\resample.py:1607\u001b[0m, in \u001b[0;36mTimeGrouper._get_grouper\u001b[1;34m(self, obj, validate)\u001b[0m\n\u001b[0;32m   1605\u001b[0m \u001b[38;5;28;01mdef\u001b[39;00m \u001b[38;5;21m_get_grouper\u001b[39m(\u001b[38;5;28mself\u001b[39m, obj, validate: \u001b[38;5;28mbool\u001b[39m \u001b[38;5;241m=\u001b[39m \u001b[38;5;28;01mTrue\u001b[39;00m):\n\u001b[0;32m   1606\u001b[0m     \u001b[38;5;66;03m# create the resampler and return our binner\u001b[39;00m\n\u001b[1;32m-> 1607\u001b[0m     r \u001b[38;5;241m=\u001b[39m \u001b[38;5;28;43mself\u001b[39;49m\u001b[38;5;241;43m.\u001b[39;49m\u001b[43m_get_resampler\u001b[49m\u001b[43m(\u001b[49m\u001b[43mobj\u001b[49m\u001b[43m)\u001b[49m\n\u001b[0;32m   1608\u001b[0m     \u001b[38;5;28;01mreturn\u001b[39;00m r\u001b[38;5;241m.\u001b[39mbinner, r\u001b[38;5;241m.\u001b[39mgrouper, r\u001b[38;5;241m.\u001b[39mobj\n",
      "File \u001b[1;32mC:\\ProgramData\\Anaconda3\\lib\\site-packages\\pandas\\core\\resample.py:1599\u001b[0m, in \u001b[0;36mTimeGrouper._get_resampler\u001b[1;34m(self, obj, kind)\u001b[0m\n\u001b[0;32m   1596\u001b[0m \u001b[38;5;28;01melif\u001b[39;00m \u001b[38;5;28misinstance\u001b[39m(ax, TimedeltaIndex):\n\u001b[0;32m   1597\u001b[0m     \u001b[38;5;28;01mreturn\u001b[39;00m TimedeltaIndexResampler(obj, groupby\u001b[38;5;241m=\u001b[39m\u001b[38;5;28mself\u001b[39m, axis\u001b[38;5;241m=\u001b[39m\u001b[38;5;28mself\u001b[39m\u001b[38;5;241m.\u001b[39maxis)\n\u001b[1;32m-> 1599\u001b[0m \u001b[38;5;28;01mraise\u001b[39;00m \u001b[38;5;167;01mTypeError\u001b[39;00m(\n\u001b[0;32m   1600\u001b[0m     \u001b[38;5;124m\"\u001b[39m\u001b[38;5;124mOnly valid with DatetimeIndex, \u001b[39m\u001b[38;5;124m\"\u001b[39m\n\u001b[0;32m   1601\u001b[0m     \u001b[38;5;124m\"\u001b[39m\u001b[38;5;124mTimedeltaIndex or PeriodIndex, \u001b[39m\u001b[38;5;124m\"\u001b[39m\n\u001b[0;32m   1602\u001b[0m     \u001b[38;5;124mf\u001b[39m\u001b[38;5;124m\"\u001b[39m\u001b[38;5;124mbut got an instance of \u001b[39m\u001b[38;5;124m'\u001b[39m\u001b[38;5;132;01m{\u001b[39;00m\u001b[38;5;28mtype\u001b[39m(ax)\u001b[38;5;241m.\u001b[39m\u001b[38;5;18m__name__\u001b[39m\u001b[38;5;132;01m}\u001b[39;00m\u001b[38;5;124m'\u001b[39m\u001b[38;5;124m\"\u001b[39m\n\u001b[0;32m   1603\u001b[0m )\n",
      "\u001b[1;31mTypeError\u001b[0m: Only valid with DatetimeIndex, TimedeltaIndex or PeriodIndex, but got an instance of 'RangeIndex'"
     ]
    }
   ],
   "source": [
    "df_bulan=  df_pl['checkin_timestamp'].groupby(pd.Grouper(freq=\"M\"))"
   ]
  },
  {
   "cell_type": "code",
   "execution_count": 36,
   "id": "3d247edd",
   "metadata": {},
   "outputs": [
    {
     "data": {
      "text/html": [
       "<div>\n",
       "<style scoped>\n",
       "    .dataframe tbody tr th:only-of-type {\n",
       "        vertical-align: middle;\n",
       "    }\n",
       "\n",
       "    .dataframe tbody tr th {\n",
       "        vertical-align: top;\n",
       "    }\n",
       "\n",
       "    .dataframe thead th {\n",
       "        text-align: right;\n",
       "    }\n",
       "</style>\n",
       "<table border=\"1\" class=\"dataframe\">\n",
       "  <thead>\n",
       "    <tr style=\"text-align: right;\">\n",
       "      <th></th>\n",
       "      <th>gender</th>\n",
       "      <th>checkin_timestamp</th>\n",
       "      <th>province_name</th>\n",
       "      <th>outlet_category</th>\n",
       "      <th>user_color_status</th>\n",
       "      <th>checkin_tanggal</th>\n",
       "    </tr>\n",
       "  </thead>\n",
       "  <tbody>\n",
       "    <tr>\n",
       "      <th>0</th>\n",
       "      <td>MALE</td>\n",
       "      <td>2022-03-28 12:24:26+00:00</td>\n",
       "      <td>DAERAH ISTIMEWA YOGYAKARTA</td>\n",
       "      <td>PERBELANJAAN</td>\n",
       "      <td>GREEN</td>\n",
       "      <td>2022-03-28</td>\n",
       "    </tr>\n",
       "    <tr>\n",
       "      <th>1</th>\n",
       "      <td>FEMALE</td>\n",
       "      <td>2022-03-28 12:26:16+00:00</td>\n",
       "      <td>JAWA BARAT</td>\n",
       "      <td>MAKANAN &amp; MINUMAN</td>\n",
       "      <td>GREEN</td>\n",
       "      <td>2022-03-28</td>\n",
       "    </tr>\n",
       "    <tr>\n",
       "      <th>2</th>\n",
       "      <td>MALE</td>\n",
       "      <td>2022-03-28 12:52:00+00:00</td>\n",
       "      <td>SUMATERA SELATAN</td>\n",
       "      <td>PERBELANJAAN</td>\n",
       "      <td>GREEN</td>\n",
       "      <td>2022-03-28</td>\n",
       "    </tr>\n",
       "    <tr>\n",
       "      <th>3</th>\n",
       "      <td>MALE</td>\n",
       "      <td>2022-03-28 12:53:13+00:00</td>\n",
       "      <td>DAERAH ISTIMEWA YOGYAKARTA</td>\n",
       "      <td>PERBELANJAAN</td>\n",
       "      <td>GREEN</td>\n",
       "      <td>2022-03-28</td>\n",
       "    </tr>\n",
       "    <tr>\n",
       "      <th>4</th>\n",
       "      <td>MALE</td>\n",
       "      <td>2022-03-28 12:55:17+00:00</td>\n",
       "      <td>JAWA BARAT</td>\n",
       "      <td>PERBELANJAAN</td>\n",
       "      <td>GREEN</td>\n",
       "      <td>2022-03-28</td>\n",
       "    </tr>\n",
       "  </tbody>\n",
       "</table>\n",
       "</div>"
      ],
      "text/plain": [
       "   gender         checkin_timestamp               province_name  \\\n",
       "0    MALE 2022-03-28 12:24:26+00:00  DAERAH ISTIMEWA YOGYAKARTA   \n",
       "1  FEMALE 2022-03-28 12:26:16+00:00                  JAWA BARAT   \n",
       "2    MALE 2022-03-28 12:52:00+00:00            SUMATERA SELATAN   \n",
       "3    MALE 2022-03-28 12:53:13+00:00  DAERAH ISTIMEWA YOGYAKARTA   \n",
       "4    MALE 2022-03-28 12:55:17+00:00                  JAWA BARAT   \n",
       "\n",
       "     outlet_category user_color_status checkin_tanggal  \n",
       "0       PERBELANJAAN             GREEN      2022-03-28  \n",
       "1  MAKANAN & MINUMAN             GREEN      2022-03-28  \n",
       "2       PERBELANJAAN             GREEN      2022-03-28  \n",
       "3       PERBELANJAAN             GREEN      2022-03-28  \n",
       "4       PERBELANJAAN             GREEN      2022-03-28  "
      ]
     },
     "execution_count": 36,
     "metadata": {},
     "output_type": "execute_result"
    }
   ],
   "source": [
    "df_pl.head()"
   ]
  },
  {
   "cell_type": "code",
   "execution_count": 37,
   "id": "3c4ecbfb",
   "metadata": {},
   "outputs": [],
   "source": [
    "df_update = df_pl.copy()"
   ]
  },
  {
   "cell_type": "code",
   "execution_count": 38,
   "id": "cf4d1b7b",
   "metadata": {},
   "outputs": [],
   "source": [
    "df_clean = df_update.dropna(axis=1)\n"
   ]
  },
  {
   "cell_type": "code",
   "execution_count": 39,
   "id": "ba51f67f",
   "metadata": {},
   "outputs": [
    {
     "data": {
      "text/html": [
       "<div>\n",
       "<style scoped>\n",
       "    .dataframe tbody tr th:only-of-type {\n",
       "        vertical-align: middle;\n",
       "    }\n",
       "\n",
       "    .dataframe tbody tr th {\n",
       "        vertical-align: top;\n",
       "    }\n",
       "\n",
       "    .dataframe thead th {\n",
       "        text-align: right;\n",
       "    }\n",
       "</style>\n",
       "<table border=\"1\" class=\"dataframe\">\n",
       "  <thead>\n",
       "    <tr style=\"text-align: right;\">\n",
       "      <th></th>\n",
       "      <th>gender</th>\n",
       "      <th>checkin_timestamp</th>\n",
       "      <th>province_name</th>\n",
       "      <th>outlet_category</th>\n",
       "      <th>user_color_status</th>\n",
       "      <th>checkin_tanggal</th>\n",
       "    </tr>\n",
       "  </thead>\n",
       "  <tbody>\n",
       "    <tr>\n",
       "      <th>0</th>\n",
       "      <td>MALE</td>\n",
       "      <td>2022-03-28 12:24:26+00:00</td>\n",
       "      <td>DAERAH ISTIMEWA YOGYAKARTA</td>\n",
       "      <td>PERBELANJAAN</td>\n",
       "      <td>GREEN</td>\n",
       "      <td>2022-03-28</td>\n",
       "    </tr>\n",
       "    <tr>\n",
       "      <th>1</th>\n",
       "      <td>FEMALE</td>\n",
       "      <td>2022-03-28 12:26:16+00:00</td>\n",
       "      <td>JAWA BARAT</td>\n",
       "      <td>MAKANAN &amp; MINUMAN</td>\n",
       "      <td>GREEN</td>\n",
       "      <td>2022-03-28</td>\n",
       "    </tr>\n",
       "    <tr>\n",
       "      <th>2</th>\n",
       "      <td>MALE</td>\n",
       "      <td>2022-03-28 12:52:00+00:00</td>\n",
       "      <td>SUMATERA SELATAN</td>\n",
       "      <td>PERBELANJAAN</td>\n",
       "      <td>GREEN</td>\n",
       "      <td>2022-03-28</td>\n",
       "    </tr>\n",
       "    <tr>\n",
       "      <th>3</th>\n",
       "      <td>MALE</td>\n",
       "      <td>2022-03-28 12:53:13+00:00</td>\n",
       "      <td>DAERAH ISTIMEWA YOGYAKARTA</td>\n",
       "      <td>PERBELANJAAN</td>\n",
       "      <td>GREEN</td>\n",
       "      <td>2022-03-28</td>\n",
       "    </tr>\n",
       "    <tr>\n",
       "      <th>4</th>\n",
       "      <td>MALE</td>\n",
       "      <td>2022-03-28 12:55:17+00:00</td>\n",
       "      <td>JAWA BARAT</td>\n",
       "      <td>PERBELANJAAN</td>\n",
       "      <td>GREEN</td>\n",
       "      <td>2022-03-28</td>\n",
       "    </tr>\n",
       "  </tbody>\n",
       "</table>\n",
       "</div>"
      ],
      "text/plain": [
       "   gender         checkin_timestamp               province_name  \\\n",
       "0    MALE 2022-03-28 12:24:26+00:00  DAERAH ISTIMEWA YOGYAKARTA   \n",
       "1  FEMALE 2022-03-28 12:26:16+00:00                  JAWA BARAT   \n",
       "2    MALE 2022-03-28 12:52:00+00:00            SUMATERA SELATAN   \n",
       "3    MALE 2022-03-28 12:53:13+00:00  DAERAH ISTIMEWA YOGYAKARTA   \n",
       "4    MALE 2022-03-28 12:55:17+00:00                  JAWA BARAT   \n",
       "\n",
       "     outlet_category user_color_status checkin_tanggal  \n",
       "0       PERBELANJAAN             GREEN      2022-03-28  \n",
       "1  MAKANAN & MINUMAN             GREEN      2022-03-28  \n",
       "2       PERBELANJAAN             GREEN      2022-03-28  \n",
       "3       PERBELANJAAN             GREEN      2022-03-28  \n",
       "4       PERBELANJAAN             GREEN      2022-03-28  "
      ]
     },
     "execution_count": 39,
     "metadata": {},
     "output_type": "execute_result"
    }
   ],
   "source": [
    "df_clean.head()"
   ]
  },
  {
   "cell_type": "code",
   "execution_count": 40,
   "id": "2e09aed0",
   "metadata": {},
   "outputs": [
    {
     "data": {
      "text/html": [
       "<div>\n",
       "<style scoped>\n",
       "    .dataframe tbody tr th:only-of-type {\n",
       "        vertical-align: middle;\n",
       "    }\n",
       "\n",
       "    .dataframe tbody tr th {\n",
       "        vertical-align: top;\n",
       "    }\n",
       "\n",
       "    .dataframe thead th {\n",
       "        text-align: right;\n",
       "    }\n",
       "</style>\n",
       "<table border=\"1\" class=\"dataframe\">\n",
       "  <thead>\n",
       "    <tr style=\"text-align: right;\">\n",
       "      <th></th>\n",
       "      <th>gender</th>\n",
       "      <th>province_name</th>\n",
       "      <th>outlet_category</th>\n",
       "      <th>user_color_status</th>\n",
       "      <th>checkin_tanggal</th>\n",
       "    </tr>\n",
       "  </thead>\n",
       "  <tbody>\n",
       "    <tr>\n",
       "      <th>0</th>\n",
       "      <td>MALE</td>\n",
       "      <td>DAERAH ISTIMEWA YOGYAKARTA</td>\n",
       "      <td>PERBELANJAAN</td>\n",
       "      <td>GREEN</td>\n",
       "      <td>2022-03-28</td>\n",
       "    </tr>\n",
       "    <tr>\n",
       "      <th>1</th>\n",
       "      <td>FEMALE</td>\n",
       "      <td>JAWA BARAT</td>\n",
       "      <td>MAKANAN &amp; MINUMAN</td>\n",
       "      <td>GREEN</td>\n",
       "      <td>2022-03-28</td>\n",
       "    </tr>\n",
       "    <tr>\n",
       "      <th>2</th>\n",
       "      <td>MALE</td>\n",
       "      <td>SUMATERA SELATAN</td>\n",
       "      <td>PERBELANJAAN</td>\n",
       "      <td>GREEN</td>\n",
       "      <td>2022-03-28</td>\n",
       "    </tr>\n",
       "    <tr>\n",
       "      <th>3</th>\n",
       "      <td>MALE</td>\n",
       "      <td>DAERAH ISTIMEWA YOGYAKARTA</td>\n",
       "      <td>PERBELANJAAN</td>\n",
       "      <td>GREEN</td>\n",
       "      <td>2022-03-28</td>\n",
       "    </tr>\n",
       "    <tr>\n",
       "      <th>4</th>\n",
       "      <td>MALE</td>\n",
       "      <td>JAWA BARAT</td>\n",
       "      <td>PERBELANJAAN</td>\n",
       "      <td>GREEN</td>\n",
       "      <td>2022-03-28</td>\n",
       "    </tr>\n",
       "  </tbody>\n",
       "</table>\n",
       "</div>"
      ],
      "text/plain": [
       "   gender               province_name    outlet_category user_color_status  \\\n",
       "0    MALE  DAERAH ISTIMEWA YOGYAKARTA       PERBELANJAAN             GREEN   \n",
       "1  FEMALE                  JAWA BARAT  MAKANAN & MINUMAN             GREEN   \n",
       "2    MALE            SUMATERA SELATAN       PERBELANJAAN             GREEN   \n",
       "3    MALE  DAERAH ISTIMEWA YOGYAKARTA       PERBELANJAAN             GREEN   \n",
       "4    MALE                  JAWA BARAT       PERBELANJAAN             GREEN   \n",
       "\n",
       "  checkin_tanggal  \n",
       "0      2022-03-28  \n",
       "1      2022-03-28  \n",
       "2      2022-03-28  \n",
       "3      2022-03-28  \n",
       "4      2022-03-28  "
      ]
     },
     "execution_count": 40,
     "metadata": {},
     "output_type": "execute_result"
    }
   ],
   "source": [
    "clean_obj = df_clean.select_dtypes('object').columns\n",
    "\n",
    "df_clean[clean_obj].head()"
   ]
  },
  {
   "cell_type": "code",
   "execution_count": 41,
   "id": "b4a41bb2",
   "metadata": {},
   "outputs": [],
   "source": [
    "import matplotlib.pyplot as plt\n",
    "import seaborn as sns\n",
    "\n",
    "%matplotlib inline"
   ]
  },
  {
   "cell_type": "code",
   "execution_count": 42,
   "id": "6d662e35",
   "metadata": {},
   "outputs": [],
   "source": [
    "def plot_all_hist(df, columns):\n",
    "    for col in columns:\n",
    "        plt.figure(figsize=(10,6))\n",
    "        sns.countplot(x=col, data=df)\n",
    "        plt.xlabel(col.capitalize())\n",
    "        plt.xticks(rotation='90')\n",
    "        plt.tight_layout()\n",
    "        plt.show()"
   ]
  },
  {
   "cell_type": "code",
   "execution_count": 43,
   "id": "36794131",
   "metadata": {},
   "outputs": [
    {
     "data": {
      "image/png": "[encoded data removed]",
      "text/plain": [
       "<Figure size 720x432 with 1 Axes>"
      ]
     },
     "metadata": {
      "needs_background": "light"
     },
     "output_type": "display_data"
    },
    {
     "data": {
      "image/png": "[encoded data removed]",
      "text/plain": [
       "<Figure size 720x432 with 1 Axes>"
      ]
     },
     "metadata": {
      "needs_background": "light"
     },
     "output_type": "display_data"
    },
    {
     "data": {
      "image/png": "[encoded data removed]",
      "text/plain": [
       "<Figure size 720x432 with 1 Axes>"
      ]
     },
     "metadata": {
      "needs_background": "light"
     },
     "output_type": "display_data"
    },
    {
     "data": {
      "image/png": "[encoded data removed]",
      "text/plain": [
       "<Figure size 720x432 with 1 Axes>"
      ]
     },
     "metadata": {
      "needs_background": "light"
     },
     "output_type": "display_data"
    },
    {
     "data": {
      "image/png": "[encoded data removed]",
      "text/plain": [
       "<Figure size 720x432 with 1 Axes>"
      ]
     },
     "metadata": {
      "needs_background": "light"
     },
     "output_type": "display_data"
    }
   ],
   "source": [
    "plot_all_hist(df_clean, clean_obj)"
   ]
  },
  {
   "cell_type": "code",
   "execution_count": null,
   "id": "ec6c9022",
   "metadata": {},
   "outputs": [],
   "source": []
  },
  {
   "cell_type": "code",
   "execution_count": null,
   "id": "234f8b51",
   "metadata": {},
   "outputs": [],
   "source": []
  }
 ],
 "metadata": {
  "kernelspec": {
   "display_name": "Python 3 (ipykernel)",
   "language": "python",
   "name": "python3"
  },
  "language_info": {
   "codemirror_mode": {
    "name": "ipython",
    "version": 3
   },
   "file_extension": ".py",
   "mimetype": "text/x-python",
   "name": "python",
   "nbconvert_exporter": "python",
   "pygments_lexer": "ipython3",
   "version": "3.9.12"
  }
 },
 "nbformat": 4,
 "nbformat_minor": 5
}
