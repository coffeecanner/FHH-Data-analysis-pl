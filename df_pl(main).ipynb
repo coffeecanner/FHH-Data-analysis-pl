{
 "cells": [
  {
   "cell_type": "markdown",
   "id": "912b796b",
   "metadata": {},
   "source": [
    "## Pendahuluan"
   ]
  },
  {
   "cell_type": "markdown",
   "id": "0e9925ea",
   "metadata": {},
   "source": [
    "\n",
    "Wabah virus Corona sudah melanda Indonesia semenjak awal 2019. Dalam jangka waktu tersebut, banyak dinamika yang terjadi.\n",
    "\n",
    "Pada kasus kali ini, data yang di berikan oleh kementrian kesehatan pada acara Finance and Healt Hackathon adalah data terkait aplikasi Peduli Lindungi untuk dianalisa agar bisa menyelesaikan masalah yang ada.\n",
    "\n",
    "Dari beberapa dataset yang disediakan, tim kami memilih data kesehatan yaitu Data Checkin Peduli Lindungi yang disediakan oleh kementrian kesehatan."
   ]
  },
  {
   "cell_type": "code",
   "execution_count": 1,
   "id": "77800227",
   "metadata": {},
   "outputs": [],
   "source": [
    "import pandas as pd\n",
    "import numpy as np"
   ]
  },
  {
   "cell_type": "code",
   "execution_count": 2,
   "id": "8b91aec8",
   "metadata": {},
   "outputs": [],
   "source": [
    "df_pl=pd.read_csv('Peduli_Lindungi_Checkin_Hackathon.csv')"
   ]
  },
  {
   "cell_type": "code",
   "execution_count": 3,
   "id": "4a4d6bd3",
   "metadata": {},
   "outputs": [
    {
     "data": {
      "text/html": [
       "<div>\n",
       "<style scoped>\n",
       "    .dataframe tbody tr th:only-of-type {\n",
       "        vertical-align: middle;\n",
       "    }\n",
       "\n",
       "    .dataframe tbody tr th {\n",
       "        vertical-align: top;\n",
       "    }\n",
       "\n",
       "    .dataframe thead th {\n",
       "        text-align: right;\n",
       "    }\n",
       "</style>\n",
       "<table border=\"1\" class=\"dataframe\">\n",
       "  <thead>\n",
       "    <tr style=\"text-align: right;\">\n",
       "      <th></th>\n",
       "      <th>nik_hashed</th>\n",
       "      <th>user_covid19_status</th>\n",
       "      <th>gender</th>\n",
       "      <th>checkin_timestamp</th>\n",
       "      <th>checkout_timestamp</th>\n",
       "      <th>province_dagri_code</th>\n",
       "      <th>province_name</th>\n",
       "      <th>city_dagri_code</th>\n",
       "      <th>city_name</th>\n",
       "      <th>outlet_category</th>\n",
       "      <th>outlet_sub_category</th>\n",
       "      <th>user_color_status</th>\n",
       "    </tr>\n",
       "  </thead>\n",
       "  <tbody>\n",
       "    <tr>\n",
       "      <th>0</th>\n",
       "      <td>93e255c026f7f4ed4a663daf884daac4a3caec8e569f4e...</td>\n",
       "      <td>NOT POSITIVE</td>\n",
       "      <td>MALE</td>\n",
       "      <td>2022-03-28 12:24:26 UTC</td>\n",
       "      <td>2022-03-28 12:40:57 UTC</td>\n",
       "      <td>34</td>\n",
       "      <td>DAERAH ISTIMEWA YOGYAKARTA</td>\n",
       "      <td>3404</td>\n",
       "      <td>KAB. SLEMAN</td>\n",
       "      <td>PERBELANJAAN</td>\n",
       "      <td>MALL</td>\n",
       "      <td>GREEN</td>\n",
       "    </tr>\n",
       "    <tr>\n",
       "      <th>1</th>\n",
       "      <td>0fdffd869355f5473f4ef62a18ba15ae49aaa6131be12d...</td>\n",
       "      <td>NOT POSITIVE</td>\n",
       "      <td>FEMALE</td>\n",
       "      <td>2022-03-28 12:26:16 UTC</td>\n",
       "      <td>2022-03-28 17:59:50 UTC</td>\n",
       "      <td>32</td>\n",
       "      <td>JAWA BARAT</td>\n",
       "      <td>3201</td>\n",
       "      <td>KAB. BOGOR</td>\n",
       "      <td>MAKANAN &amp; MINUMAN</td>\n",
       "      <td>RESTORAN</td>\n",
       "      <td>GREEN</td>\n",
       "    </tr>\n",
       "    <tr>\n",
       "      <th>2</th>\n",
       "      <td>2b84a93837c40487dc60b0a02b9f5e7db5c6519c4d95d2...</td>\n",
       "      <td>NOT POSITIVE</td>\n",
       "      <td>MALE</td>\n",
       "      <td>2022-03-28 12:52:00 UTC</td>\n",
       "      <td>2022-03-28 13:55:52 UTC</td>\n",
       "      <td>16</td>\n",
       "      <td>SUMATERA SELATAN</td>\n",
       "      <td>1671</td>\n",
       "      <td>KOTA PALEMBANG</td>\n",
       "      <td>PERBELANJAAN</td>\n",
       "      <td>MALL</td>\n",
       "      <td>GREEN</td>\n",
       "    </tr>\n",
       "    <tr>\n",
       "      <th>3</th>\n",
       "      <td>681b4354b148a8424a69a8956a06d840b2fccd0d79821f...</td>\n",
       "      <td>NOT POSITIVE</td>\n",
       "      <td>MALE</td>\n",
       "      <td>2022-03-28 12:53:13 UTC</td>\n",
       "      <td>2022-03-28 13:28:30 UTC</td>\n",
       "      <td>34</td>\n",
       "      <td>DAERAH ISTIMEWA YOGYAKARTA</td>\n",
       "      <td>3404</td>\n",
       "      <td>KAB. SLEMAN</td>\n",
       "      <td>PERBELANJAAN</td>\n",
       "      <td>MALL</td>\n",
       "      <td>GREEN</td>\n",
       "    </tr>\n",
       "    <tr>\n",
       "      <th>4</th>\n",
       "      <td>965891cbdd3406e1f421361874fdbe3550c52b6647923f...</td>\n",
       "      <td>NOT POSITIVE</td>\n",
       "      <td>MALE</td>\n",
       "      <td>2022-03-28 12:55:17 UTC</td>\n",
       "      <td>2022-03-28 12:55:22 UTC</td>\n",
       "      <td>32</td>\n",
       "      <td>JAWA BARAT</td>\n",
       "      <td>3271</td>\n",
       "      <td>KOTA BOGOR</td>\n",
       "      <td>PERBELANJAAN</td>\n",
       "      <td>MALL</td>\n",
       "      <td>GREEN</td>\n",
       "    </tr>\n",
       "  </tbody>\n",
       "</table>\n",
       "</div>"
      ],
      "text/plain": [
       "                                          nik_hashed user_covid19_status  \\\n",
       "0  93e255c026f7f4ed4a663daf884daac4a3caec8e569f4e...        NOT POSITIVE   \n",
       "1  0fdffd869355f5473f4ef62a18ba15ae49aaa6131be12d...        NOT POSITIVE   \n",
       "2  2b84a93837c40487dc60b0a02b9f5e7db5c6519c4d95d2...        NOT POSITIVE   \n",
       "3  681b4354b148a8424a69a8956a06d840b2fccd0d79821f...        NOT POSITIVE   \n",
       "4  965891cbdd3406e1f421361874fdbe3550c52b6647923f...        NOT POSITIVE   \n",
       "\n",
       "   gender        checkin_timestamp       checkout_timestamp  \\\n",
       "0    MALE  2022-03-28 12:24:26 UTC  2022-03-28 12:40:57 UTC   \n",
       "1  FEMALE  2022-03-28 12:26:16 UTC  2022-03-28 17:59:50 UTC   \n",
       "2    MALE  2022-03-28 12:52:00 UTC  2022-03-28 13:55:52 UTC   \n",
       "3    MALE  2022-03-28 12:53:13 UTC  2022-03-28 13:28:30 UTC   \n",
       "4    MALE  2022-03-28 12:55:17 UTC  2022-03-28 12:55:22 UTC   \n",
       "\n",
       "   province_dagri_code               province_name  city_dagri_code  \\\n",
       "0                   34  DAERAH ISTIMEWA YOGYAKARTA             3404   \n",
       "1                   32                  JAWA BARAT             3201   \n",
       "2                   16            SUMATERA SELATAN             1671   \n",
       "3                   34  DAERAH ISTIMEWA YOGYAKARTA             3404   \n",
       "4                   32                  JAWA BARAT             3271   \n",
       "\n",
       "        city_name    outlet_category outlet_sub_category user_color_status  \n",
       "0     KAB. SLEMAN       PERBELANJAAN                MALL             GREEN  \n",
       "1      KAB. BOGOR  MAKANAN & MINUMAN            RESTORAN             GREEN  \n",
       "2  KOTA PALEMBANG       PERBELANJAAN                MALL             GREEN  \n",
       "3     KAB. SLEMAN       PERBELANJAAN                MALL             GREEN  \n",
       "4      KOTA BOGOR       PERBELANJAAN                MALL             GREEN  "
      ]
     },
     "execution_count": 3,
     "metadata": {},
     "output_type": "execute_result"
    }
   ],
   "source": [
    "df_pl.head()\n"
   ]
  },
  {
   "cell_type": "code",
   "execution_count": 4,
   "id": "19751c50",
   "metadata": {},
   "outputs": [
    {
     "name": "stdout",
     "output_type": "stream",
     "text": [
      "<class 'pandas.core.frame.DataFrame'>\n",
      "RangeIndex: 1048575 entries, 0 to 1048574\n",
      "Data columns (total 12 columns):\n",
      " #   Column               Non-Null Count    Dtype \n",
      "---  ------               --------------    ----- \n",
      " 0   nik_hashed           1048575 non-null  object\n",
      " 1   user_covid19_status  1048575 non-null  object\n",
      " 2   gender               1045898 non-null  object\n",
      " 3   checkin_timestamp    1048575 non-null  object\n",
      " 4   checkout_timestamp   546680 non-null   object\n",
      " 5   province_dagri_code  1048575 non-null  int64 \n",
      " 6   province_name        1048575 non-null  object\n",
      " 7   city_dagri_code      1048575 non-null  int64 \n",
      " 8   city_name            1048575 non-null  object\n",
      " 9   outlet_category      1037474 non-null  object\n",
      " 10  outlet_sub_category  1038082 non-null  object\n",
      " 11  user_color_status    1048575 non-null  object\n",
      "dtypes: int64(2), object(10)\n",
      "memory usage: 96.0+ MB\n"
     ]
    }
   ],
   "source": [
    "df_pl.info()"
   ]
  },
  {
   "cell_type": "markdown",
   "id": "1048ddfb",
   "metadata": {},
   "source": [
    "Data terdiri dari 1.048.575 baris yang terbagi dalam 12 kolom."
   ]
  },
  {
   "cell_type": "code",
   "execution_count": 5,
   "id": "4db9d2b8",
   "metadata": {},
   "outputs": [
    {
     "data": {
      "text/plain": [
       "Index(['nik_hashed', 'user_covid19_status', 'gender', 'checkin_timestamp',\n",
       "       'checkout_timestamp', 'province_dagri_code', 'province_name',\n",
       "       'city_dagri_code', 'city_name', 'outlet_category',\n",
       "       'outlet_sub_category', 'user_color_status'],\n",
       "      dtype='object')"
      ]
     },
     "execution_count": 5,
     "metadata": {},
     "output_type": "execute_result"
    }
   ],
   "source": [
    "df_pl.columns"
   ]
  },
  {
   "cell_type": "code",
   "execution_count": 6,
   "id": "b9f24ded",
   "metadata": {},
   "outputs": [
    {
     "data": {
      "text/plain": [
       "NOT POSITIVE    1048575\n",
       "Name: user_covid19_status, dtype: int64"
      ]
     },
     "execution_count": 6,
     "metadata": {},
     "output_type": "execute_result"
    }
   ],
   "source": [
    "df_pl.user_covid19_status.value_counts()"
   ]
  },
  {
   "cell_type": "code",
   "execution_count": 7,
   "id": "39426696",
   "metadata": {},
   "outputs": [],
   "source": [
    "del df_pl['nik_hashed']"
   ]
  },
  {
   "cell_type": "code",
   "execution_count": 8,
   "id": "27b6f195",
   "metadata": {},
   "outputs": [
    {
     "data": {
      "text/plain": [
       "MALE      935632\n",
       "FEMALE    110266\n",
       "Name: gender, dtype: int64"
      ]
     },
     "execution_count": 8,
     "metadata": {},
     "output_type": "execute_result"
    }
   ],
   "source": [
    "df_pl.gender.value_counts()"
   ]
  },
  {
   "cell_type": "code",
   "execution_count": 9,
   "id": "2dda6536",
   "metadata": {},
   "outputs": [
    {
     "data": {
      "text/plain": [
       "DKI JAKARTA                   685934\n",
       "BANTEN                        129728\n",
       "JAWA BARAT                    105133\n",
       "JAWA TIMUR                     84378\n",
       "BALI                           26200\n",
       "JAWA TENGAH                     8546\n",
       "DAERAH ISTIMEWA YOGYAKARTA      2503\n",
       "SUMATERA SELATAN                1855\n",
       "SUMATERA UTARA                  1697\n",
       "RIAU                            1158\n",
       "KEPULAUAN RIAU                   627\n",
       "KALIMANTAN TIMUR                 593\n",
       "KALIMANTAN BARAT                  77\n",
       "KALIMANTAN TENGAH                 39\n",
       "SULAWESI SELATAN                  37\n",
       "NUSA TENGGARA BARAT               24\n",
       "SULAWESI TENGGARA                 17\n",
       "NUSA TENGGARA TIMUR               15\n",
       "LAMPUNG                            8\n",
       "JAMBI                              3\n",
       "KEPULAUAN BANGKA BELITUNG          2\n",
       "PAPUA BARAT                        1\n",
       "Name: province_name, dtype: int64"
      ]
     },
     "execution_count": 9,
     "metadata": {},
     "output_type": "execute_result"
    }
   ],
   "source": [
    "df_pl.province_name.value_counts()"
   ]
  },
  {
   "cell_type": "code",
   "execution_count": 10,
   "id": "88c21c34",
   "metadata": {},
   "outputs": [
    {
     "data": {
      "text/plain": [
       "KOTA ADM. JAKARTA BARAT    345075\n",
       "KOTA ADM. JAKARTA PUSAT    296752\n",
       "KAB. TANGERANG              96744\n",
       "KOTA SURABAYA               80188\n",
       "KOTA BEKASI                 54175\n",
       "                            ...  \n",
       "KOTA PEKALONGAN                 1\n",
       "KAB. MANOKWARI                  1\n",
       "KAB. BANYUWANGI                 1\n",
       "KOTA BINJAI                     1\n",
       "KOTA MOJOKERTO                  1\n",
       "Name: city_name, Length: 97, dtype: int64"
      ]
     },
     "execution_count": 10,
     "metadata": {},
     "output_type": "execute_result"
    }
   ],
   "source": [
    "df_pl.city_name.value_counts()"
   ]
  },
  {
   "cell_type": "markdown",
   "id": "4356079c",
   "metadata": {},
   "source": [
    "Terdapat 22 provinsi dan 97 kota yang ada dalam dataset ini"
   ]
  },
  {
   "cell_type": "code",
   "execution_count": 11,
   "id": "ee1e03c2",
   "metadata": {},
   "outputs": [],
   "source": [
    "del df_pl['city_dagri_code']\n",
    "del df_pl['province_dagri_code']"
   ]
  },
  {
   "cell_type": "code",
   "execution_count": 12,
   "id": "5805cdc9",
   "metadata": {},
   "outputs": [
    {
     "data": {
      "text/plain": [
       "PERBELANJAAN              876890\n",
       "PERKANTORAN                75407\n",
       "SARANA TRANSPORTASI        45250\n",
       "INDUSTRI                   15894\n",
       "AKOMODASI                   8409\n",
       "MAKANAN & MINUMAN           5840\n",
       "SARANA OLAHRAGA             3646\n",
       "SARANA HIBURAN              2560\n",
       "FASILITAS KESEHATAN         2183\n",
       "INSTITUSI PENDIDIKAN         985\n",
       "TEMPAT IBADAH                406\n",
       "KECANTIKAN & RELAKSASI         4\n",
       "Name: outlet_category, dtype: int64"
      ]
     },
     "execution_count": 12,
     "metadata": {},
     "output_type": "execute_result"
    }
   ],
   "source": [
    "df_pl.outlet_category.value_counts()"
   ]
  },
  {
   "cell_type": "markdown",
   "id": "8b2b7617",
   "metadata": {},
   "source": [
    "Menandakan Kategori dari Tempat Publik yang dikunjungi user, diantaranya Perbelanjaan, Sarana Hiburan, Akomodasi, Makanan & Minuman, Sarana Transportasi, Industri, Perkantoran, Sarana Olahraga, Fasilitas Kesehatan, Tempat Ibadah, Kecantikan & Relaksasi, dan Institusi Pendidikan"
   ]
  },
  {
   "cell_type": "code",
   "execution_count": 13,
   "id": "e6275574",
   "metadata": {},
   "outputs": [
    {
     "data": {
      "text/plain": [
       "MALL                              868761\n",
       "GEDUNG PERKANTORAN SWASTA          61257\n",
       "STASIUN                            45069\n",
       "PABRIK / REFINERY / PEMBANGKIT     15493\n",
       "KANTOR BUMN                         9315\n",
       "                                   ...  \n",
       "GALERI SENI                            1\n",
       "SPA                                    1\n",
       "LABORATORIUM                           1\n",
       "LEMBAGA KURSUS                         1\n",
       "AKOMODASI                              1\n",
       "Name: outlet_sub_category, Length: 62, dtype: int64"
      ]
     },
     "execution_count": 13,
     "metadata": {},
     "output_type": "execute_result"
    }
   ],
   "source": [
    "df_pl.outlet_sub_category.value_counts()"
   ]
  },
  {
   "cell_type": "code",
   "execution_count": 14,
   "id": "e2e5e991",
   "metadata": {},
   "outputs": [
    {
     "data": {
      "text/plain": [
       "GREEN     1006944\n",
       "YELLOW      40722\n",
       "RED           861\n",
       "BLACK          48\n",
       "Name: user_color_status, dtype: int64"
      ]
     },
     "execution_count": 14,
     "metadata": {},
     "output_type": "execute_result"
    }
   ],
   "source": [
    "df_pl.user_color_status.value_counts()"
   ]
  },
  {
   "cell_type": "markdown",
   "id": "4ffaef4d",
   "metadata": {},
   "source": [
    "Status (GREEN) HIJAU menandakan bahwa User dapat bepergian ke tempat umum karena termasuk ke dalam kriteria berikut:\n",
    "- Sudah vaksinasi dosis lanjutan (booster) sesuai jenis vaksin yang diterima\n",
    "- Bukan pasien Covid-19 atau kontak erat\n",
    "- Hasil tes antigen (1x24 jam) atau PCR (3x24 jam) negatif\n",
    "- Sudah vaksinasi lengkap dan sembuh dari Covid-19 kurang dari 90 hari\n",
    "\n",
    "\n",
    "Status YELLOW(KUNING) menandakan bahwa user tidak dapat bepergian ke tempat umum namun mengikuti regulasi pemerintah daerah dan area publik masing-masing. \n",
    "Status YELLOW(KUNING) menandakan bahwa user termasuk ke dalam kriteria berikut:\n",
    "- Sudah vaksinasi lengkap sesuai jenis vaksin yang diterima\n",
    "- Bukan pasien Covid-19 atau kontak erat\n",
    "- Sudah vaksinasi 1x dan sembuh dari Covid-19 kurang dari 90 hari\n",
    "\n",
    "Dengan status RED(MERAH), user tidak dapat bepergian ke tempat umum karena termasuk ke dalam kriteria berikut:\n",
    "- Belum divaksin atau baru vaksinasi 1x sesuai jenis vaksin yang diterima\n",
    "- Bukan pasien Covid-19 atau kontak erat\n",
    "\n",
    "Dengan status BLACK(HITAM), user tidak dapat bepergian ke tempat umum karena alasan berikut:\n",
    "- Positif Covid-19 kurang dari 10 hari\n",
    "- Riwayat kontak dengan kasus positif kurang dari 14 hari"
   ]
  },
  {
   "cell_type": "code",
   "execution_count": 15,
   "id": "61572bec",
   "metadata": {},
   "outputs": [],
   "source": [
    "df_pl['checkin_timestamp'] = pd.to_datetime(df_pl['checkin_timestamp'])"
   ]
  },
  {
   "cell_type": "code",
   "execution_count": 16,
   "id": "cdfb6135",
   "metadata": {},
   "outputs": [],
   "source": [
    "df_pl['checkout_timestamp'] = pd.to_datetime(df_pl['checkout_timestamp'])"
   ]
  },
  {
   "cell_type": "code",
   "execution_count": 17,
   "id": "f7d328f3",
   "metadata": {},
   "outputs": [
    {
     "name": "stdout",
     "output_type": "stream",
     "text": [
      "<class 'pandas.core.frame.DataFrame'>\n",
      "RangeIndex: 1048575 entries, 0 to 1048574\n",
      "Data columns (total 9 columns):\n",
      " #   Column               Non-Null Count    Dtype              \n",
      "---  ------               --------------    -----              \n",
      " 0   user_covid19_status  1048575 non-null  object             \n",
      " 1   gender               1045898 non-null  object             \n",
      " 2   checkin_timestamp    1048575 non-null  datetime64[ns, UTC]\n",
      " 3   checkout_timestamp   546680 non-null   datetime64[ns, UTC]\n",
      " 4   province_name        1048575 non-null  object             \n",
      " 5   city_name            1048575 non-null  object             \n",
      " 6   outlet_category      1037474 non-null  object             \n",
      " 7   outlet_sub_category  1038082 non-null  object             \n",
      " 8   user_color_status    1048575 non-null  object             \n",
      "dtypes: datetime64[ns, UTC](2), object(7)\n",
      "memory usage: 72.0+ MB\n"
     ]
    }
   ],
   "source": [
    "df_pl.info()"
   ]
  },
  {
   "cell_type": "markdown",
   "id": "08777385",
   "metadata": {},
   "source": [
    "Mengubah dtype checkin_timestamp dan checkout_timestamp dari object menjadi datetime64"
   ]
  },
  {
   "cell_type": "code",
   "execution_count": 18,
   "id": "1ff88376",
   "metadata": {},
   "outputs": [],
   "source": [
    "df_pl['checkin_tanggal']= df_pl['checkin_timestamp'].dt.date"
   ]
  },
  {
   "cell_type": "markdown",
   "id": "7d1687e7",
   "metadata": {},
   "source": [
    "Membuat kolom baru berisi tanggal dari checkin_timestamp"
   ]
  },
  {
   "cell_type": "code",
   "execution_count": 19,
   "id": "6d671176",
   "metadata": {},
   "outputs": [],
   "source": [
    "df_pl['checkin_tanggal'] = pd.to_datetime(df_pl['checkin_tanggal'])"
   ]
  },
  {
   "cell_type": "markdown",
   "id": "3ff00bb1",
   "metadata": {},
   "source": [
    "Mengubah dtype checkin_tanggal dan checkout_timestamp dari object menjadi datetime64"
   ]
  },
  {
   "cell_type": "code",
   "execution_count": 20,
   "id": "e0d3bbc1",
   "metadata": {},
   "outputs": [
    {
     "data": {
      "text/html": [
       "<div>\n",
       "<style scoped>\n",
       "    .dataframe tbody tr th:only-of-type {\n",
       "        vertical-align: middle;\n",
       "    }\n",
       "\n",
       "    .dataframe tbody tr th {\n",
       "        vertical-align: top;\n",
       "    }\n",
       "\n",
       "    .dataframe thead th {\n",
       "        text-align: right;\n",
       "    }\n",
       "</style>\n",
       "<table border=\"1\" class=\"dataframe\">\n",
       "  <thead>\n",
       "    <tr style=\"text-align: right;\">\n",
       "      <th></th>\n",
       "      <th>user_covid19_status</th>\n",
       "      <th>gender</th>\n",
       "      <th>checkin_timestamp</th>\n",
       "      <th>checkout_timestamp</th>\n",
       "      <th>province_name</th>\n",
       "      <th>city_name</th>\n",
       "      <th>outlet_category</th>\n",
       "      <th>outlet_sub_category</th>\n",
       "      <th>user_color_status</th>\n",
       "      <th>checkin_tanggal</th>\n",
       "    </tr>\n",
       "  </thead>\n",
       "  <tbody>\n",
       "    <tr>\n",
       "      <th>0</th>\n",
       "      <td>NOT POSITIVE</td>\n",
       "      <td>MALE</td>\n",
       "      <td>2022-03-28 12:24:26+00:00</td>\n",
       "      <td>2022-03-28 12:40:57+00:00</td>\n",
       "      <td>DAERAH ISTIMEWA YOGYAKARTA</td>\n",
       "      <td>KAB. SLEMAN</td>\n",
       "      <td>PERBELANJAAN</td>\n",
       "      <td>MALL</td>\n",
       "      <td>GREEN</td>\n",
       "      <td>2022-03-28</td>\n",
       "    </tr>\n",
       "    <tr>\n",
       "      <th>1</th>\n",
       "      <td>NOT POSITIVE</td>\n",
       "      <td>FEMALE</td>\n",
       "      <td>2022-03-28 12:26:16+00:00</td>\n",
       "      <td>2022-03-28 17:59:50+00:00</td>\n",
       "      <td>JAWA BARAT</td>\n",
       "      <td>KAB. BOGOR</td>\n",
       "      <td>MAKANAN &amp; MINUMAN</td>\n",
       "      <td>RESTORAN</td>\n",
       "      <td>GREEN</td>\n",
       "      <td>2022-03-28</td>\n",
       "    </tr>\n",
       "    <tr>\n",
       "      <th>2</th>\n",
       "      <td>NOT POSITIVE</td>\n",
       "      <td>MALE</td>\n",
       "      <td>2022-03-28 12:52:00+00:00</td>\n",
       "      <td>2022-03-28 13:55:52+00:00</td>\n",
       "      <td>SUMATERA SELATAN</td>\n",
       "      <td>KOTA PALEMBANG</td>\n",
       "      <td>PERBELANJAAN</td>\n",
       "      <td>MALL</td>\n",
       "      <td>GREEN</td>\n",
       "      <td>2022-03-28</td>\n",
       "    </tr>\n",
       "    <tr>\n",
       "      <th>3</th>\n",
       "      <td>NOT POSITIVE</td>\n",
       "      <td>MALE</td>\n",
       "      <td>2022-03-28 12:53:13+00:00</td>\n",
       "      <td>2022-03-28 13:28:30+00:00</td>\n",
       "      <td>DAERAH ISTIMEWA YOGYAKARTA</td>\n",
       "      <td>KAB. SLEMAN</td>\n",
       "      <td>PERBELANJAAN</td>\n",
       "      <td>MALL</td>\n",
       "      <td>GREEN</td>\n",
       "      <td>2022-03-28</td>\n",
       "    </tr>\n",
       "    <tr>\n",
       "      <th>4</th>\n",
       "      <td>NOT POSITIVE</td>\n",
       "      <td>MALE</td>\n",
       "      <td>2022-03-28 12:55:17+00:00</td>\n",
       "      <td>2022-03-28 12:55:22+00:00</td>\n",
       "      <td>JAWA BARAT</td>\n",
       "      <td>KOTA BOGOR</td>\n",
       "      <td>PERBELANJAAN</td>\n",
       "      <td>MALL</td>\n",
       "      <td>GREEN</td>\n",
       "      <td>2022-03-28</td>\n",
       "    </tr>\n",
       "  </tbody>\n",
       "</table>\n",
       "</div>"
      ],
      "text/plain": [
       "  user_covid19_status  gender         checkin_timestamp  \\\n",
       "0        NOT POSITIVE    MALE 2022-03-28 12:24:26+00:00   \n",
       "1        NOT POSITIVE  FEMALE 2022-03-28 12:26:16+00:00   \n",
       "2        NOT POSITIVE    MALE 2022-03-28 12:52:00+00:00   \n",
       "3        NOT POSITIVE    MALE 2022-03-28 12:53:13+00:00   \n",
       "4        NOT POSITIVE    MALE 2022-03-28 12:55:17+00:00   \n",
       "\n",
       "         checkout_timestamp               province_name       city_name  \\\n",
       "0 2022-03-28 12:40:57+00:00  DAERAH ISTIMEWA YOGYAKARTA     KAB. SLEMAN   \n",
       "1 2022-03-28 17:59:50+00:00                  JAWA BARAT      KAB. BOGOR   \n",
       "2 2022-03-28 13:55:52+00:00            SUMATERA SELATAN  KOTA PALEMBANG   \n",
       "3 2022-03-28 13:28:30+00:00  DAERAH ISTIMEWA YOGYAKARTA     KAB. SLEMAN   \n",
       "4 2022-03-28 12:55:22+00:00                  JAWA BARAT      KOTA BOGOR   \n",
       "\n",
       "     outlet_category outlet_sub_category user_color_status checkin_tanggal  \n",
       "0       PERBELANJAAN                MALL             GREEN      2022-03-28  \n",
       "1  MAKANAN & MINUMAN            RESTORAN             GREEN      2022-03-28  \n",
       "2       PERBELANJAAN                MALL             GREEN      2022-03-28  \n",
       "3       PERBELANJAAN                MALL             GREEN      2022-03-28  \n",
       "4       PERBELANJAAN                MALL             GREEN      2022-03-28  "
      ]
     },
     "execution_count": 20,
     "metadata": {},
     "output_type": "execute_result"
    }
   ],
   "source": [
    "df_pl.head()"
   ]
  },
  {
   "cell_type": "code",
   "execution_count": 21,
   "id": "4598b8f0",
   "metadata": {},
   "outputs": [
    {
     "name": "stdout",
     "output_type": "stream",
     "text": [
      "<class 'pandas.core.frame.DataFrame'>\n",
      "RangeIndex: 1048575 entries, 0 to 1048574\n",
      "Data columns (total 10 columns):\n",
      " #   Column               Non-Null Count    Dtype              \n",
      "---  ------               --------------    -----              \n",
      " 0   user_covid19_status  1048575 non-null  object             \n",
      " 1   gender               1045898 non-null  object             \n",
      " 2   checkin_timestamp    1048575 non-null  datetime64[ns, UTC]\n",
      " 3   checkout_timestamp   546680 non-null   datetime64[ns, UTC]\n",
      " 4   province_name        1048575 non-null  object             \n",
      " 5   city_name            1048575 non-null  object             \n",
      " 6   outlet_category      1037474 non-null  object             \n",
      " 7   outlet_sub_category  1038082 non-null  object             \n",
      " 8   user_color_status    1048575 non-null  object             \n",
      " 9   checkin_tanggal      1048575 non-null  datetime64[ns]     \n",
      "dtypes: datetime64[ns, UTC](2), datetime64[ns](1), object(7)\n",
      "memory usage: 80.0+ MB\n"
     ]
    }
   ],
   "source": [
    "df_pl.info()"
   ]
  },
  {
   "cell_type": "markdown",
   "id": "9c8c4ca6",
   "metadata": {},
   "source": [
    "## Data Preparation"
   ]
  },
  {
   "cell_type": "code",
   "execution_count": 22,
   "id": "2fad8f54",
   "metadata": {},
   "outputs": [
    {
     "data": {
      "text/html": [
       "<div>\n",
       "<style scoped>\n",
       "    .dataframe tbody tr th:only-of-type {\n",
       "        vertical-align: middle;\n",
       "    }\n",
       "\n",
       "    .dataframe tbody tr th {\n",
       "        vertical-align: top;\n",
       "    }\n",
       "\n",
       "    .dataframe thead th {\n",
       "        text-align: right;\n",
       "    }\n",
       "</style>\n",
       "<table border=\"1\" class=\"dataframe\">\n",
       "  <thead>\n",
       "    <tr style=\"text-align: right;\">\n",
       "      <th></th>\n",
       "      <th>user_covid19_status</th>\n",
       "      <th>gender</th>\n",
       "      <th>province_name</th>\n",
       "      <th>city_name</th>\n",
       "      <th>outlet_category</th>\n",
       "      <th>outlet_sub_category</th>\n",
       "      <th>user_color_status</th>\n",
       "    </tr>\n",
       "  </thead>\n",
       "  <tbody>\n",
       "    <tr>\n",
       "      <th>0</th>\n",
       "      <td>NOT POSITIVE</td>\n",
       "      <td>MALE</td>\n",
       "      <td>DAERAH ISTIMEWA YOGYAKARTA</td>\n",
       "      <td>KAB. SLEMAN</td>\n",
       "      <td>PERBELANJAAN</td>\n",
       "      <td>MALL</td>\n",
       "      <td>GREEN</td>\n",
       "    </tr>\n",
       "    <tr>\n",
       "      <th>1</th>\n",
       "      <td>NOT POSITIVE</td>\n",
       "      <td>FEMALE</td>\n",
       "      <td>JAWA BARAT</td>\n",
       "      <td>KAB. BOGOR</td>\n",
       "      <td>MAKANAN &amp; MINUMAN</td>\n",
       "      <td>RESTORAN</td>\n",
       "      <td>GREEN</td>\n",
       "    </tr>\n",
       "    <tr>\n",
       "      <th>2</th>\n",
       "      <td>NOT POSITIVE</td>\n",
       "      <td>MALE</td>\n",
       "      <td>SUMATERA SELATAN</td>\n",
       "      <td>KOTA PALEMBANG</td>\n",
       "      <td>PERBELANJAAN</td>\n",
       "      <td>MALL</td>\n",
       "      <td>GREEN</td>\n",
       "    </tr>\n",
       "    <tr>\n",
       "      <th>3</th>\n",
       "      <td>NOT POSITIVE</td>\n",
       "      <td>MALE</td>\n",
       "      <td>DAERAH ISTIMEWA YOGYAKARTA</td>\n",
       "      <td>KAB. SLEMAN</td>\n",
       "      <td>PERBELANJAAN</td>\n",
       "      <td>MALL</td>\n",
       "      <td>GREEN</td>\n",
       "    </tr>\n",
       "    <tr>\n",
       "      <th>4</th>\n",
       "      <td>NOT POSITIVE</td>\n",
       "      <td>MALE</td>\n",
       "      <td>JAWA BARAT</td>\n",
       "      <td>KOTA BOGOR</td>\n",
       "      <td>PERBELANJAAN</td>\n",
       "      <td>MALL</td>\n",
       "      <td>GREEN</td>\n",
       "    </tr>\n",
       "  </tbody>\n",
       "</table>\n",
       "</div>"
      ],
      "text/plain": [
       "  user_covid19_status  gender               province_name       city_name  \\\n",
       "0        NOT POSITIVE    MALE  DAERAH ISTIMEWA YOGYAKARTA     KAB. SLEMAN   \n",
       "1        NOT POSITIVE  FEMALE                  JAWA BARAT      KAB. BOGOR   \n",
       "2        NOT POSITIVE    MALE            SUMATERA SELATAN  KOTA PALEMBANG   \n",
       "3        NOT POSITIVE    MALE  DAERAH ISTIMEWA YOGYAKARTA     KAB. SLEMAN   \n",
       "4        NOT POSITIVE    MALE                  JAWA BARAT      KOTA BOGOR   \n",
       "\n",
       "     outlet_category outlet_sub_category user_color_status  \n",
       "0       PERBELANJAAN                MALL             GREEN  \n",
       "1  MAKANAN & MINUMAN            RESTORAN             GREEN  \n",
       "2       PERBELANJAAN                MALL             GREEN  \n",
       "3       PERBELANJAAN                MALL             GREEN  \n",
       "4       PERBELANJAAN                MALL             GREEN  "
      ]
     },
     "execution_count": 22,
     "metadata": {},
     "output_type": "execute_result"
    }
   ],
   "source": [
    "obj_cols = df_pl.select_dtypes('object').columns\n",
    "df_pl[obj_cols].head()"
   ]
  },
  {
   "cell_type": "code",
   "execution_count": 23,
   "id": "4e009821",
   "metadata": {},
   "outputs": [
    {
     "data": {
      "text/html": [
       "<div>\n",
       "<style scoped>\n",
       "    .dataframe tbody tr th:only-of-type {\n",
       "        vertical-align: middle;\n",
       "    }\n",
       "\n",
       "    .dataframe tbody tr th {\n",
       "        vertical-align: top;\n",
       "    }\n",
       "\n",
       "    .dataframe thead th {\n",
       "        text-align: right;\n",
       "    }\n",
       "</style>\n",
       "<table border=\"1\" class=\"dataframe\">\n",
       "  <thead>\n",
       "    <tr style=\"text-align: right;\">\n",
       "      <th></th>\n",
       "      <th>checkin_timestamp</th>\n",
       "      <th>checkout_timestamp</th>\n",
       "      <th>checkin_tanggal</th>\n",
       "    </tr>\n",
       "  </thead>\n",
       "  <tbody>\n",
       "    <tr>\n",
       "      <th>0</th>\n",
       "      <td>2022-03-28 12:24:26+00:00</td>\n",
       "      <td>2022-03-28 12:40:57+00:00</td>\n",
       "      <td>2022-03-28</td>\n",
       "    </tr>\n",
       "    <tr>\n",
       "      <th>1</th>\n",
       "      <td>2022-03-28 12:26:16+00:00</td>\n",
       "      <td>2022-03-28 17:59:50+00:00</td>\n",
       "      <td>2022-03-28</td>\n",
       "    </tr>\n",
       "    <tr>\n",
       "      <th>2</th>\n",
       "      <td>2022-03-28 12:52:00+00:00</td>\n",
       "      <td>2022-03-28 13:55:52+00:00</td>\n",
       "      <td>2022-03-28</td>\n",
       "    </tr>\n",
       "    <tr>\n",
       "      <th>3</th>\n",
       "      <td>2022-03-28 12:53:13+00:00</td>\n",
       "      <td>2022-03-28 13:28:30+00:00</td>\n",
       "      <td>2022-03-28</td>\n",
       "    </tr>\n",
       "    <tr>\n",
       "      <th>4</th>\n",
       "      <td>2022-03-28 12:55:17+00:00</td>\n",
       "      <td>2022-03-28 12:55:22+00:00</td>\n",
       "      <td>2022-03-28</td>\n",
       "    </tr>\n",
       "  </tbody>\n",
       "</table>\n",
       "</div>"
      ],
      "text/plain": [
       "          checkin_timestamp        checkout_timestamp checkin_tanggal\n",
       "0 2022-03-28 12:24:26+00:00 2022-03-28 12:40:57+00:00      2022-03-28\n",
       "1 2022-03-28 12:26:16+00:00 2022-03-28 17:59:50+00:00      2022-03-28\n",
       "2 2022-03-28 12:52:00+00:00 2022-03-28 13:55:52+00:00      2022-03-28\n",
       "3 2022-03-28 12:53:13+00:00 2022-03-28 13:28:30+00:00      2022-03-28\n",
       "4 2022-03-28 12:55:17+00:00 2022-03-28 12:55:22+00:00      2022-03-28"
      ]
     },
     "execution_count": 23,
     "metadata": {},
     "output_type": "execute_result"
    }
   ],
   "source": [
    "date_cols = df_pl.select_dtypes(include=['datetime64[ns, UTC]','datetime64[ns]']).columns\n",
    "df_pl[date_cols].head()"
   ]
  },
  {
   "cell_type": "markdown",
   "id": "bfe6e44d",
   "metadata": {},
   "source": [
    "## Data Cleaning"
   ]
  },
  {
   "cell_type": "code",
   "execution_count": 24,
   "id": "d59b8612",
   "metadata": {},
   "outputs": [
    {
     "data": {
      "text/plain": [
       "user_covid19_status        0\n",
       "gender                  2677\n",
       "province_name              0\n",
       "city_name                  0\n",
       "outlet_category        11101\n",
       "outlet_sub_category    10493\n",
       "user_color_status          0\n",
       "dtype: int64"
      ]
     },
     "execution_count": 24,
     "metadata": {},
     "output_type": "execute_result"
    }
   ],
   "source": [
    "df_pl[obj_cols].isna().sum()"
   ]
  },
  {
   "cell_type": "code",
   "execution_count": 25,
   "id": "94c1ccf7",
   "metadata": {},
   "outputs": [
    {
     "data": {
      "text/plain": [
       "MALE      935632\n",
       "FEMALE    110266\n",
       "Name: gender, dtype: int64"
      ]
     },
     "execution_count": 25,
     "metadata": {},
     "output_type": "execute_result"
    }
   ],
   "source": [
    "df_pl['gender'].value_counts()"
   ]
  },
  {
   "cell_type": "code",
   "execution_count": 26,
   "id": "0cc07ec5",
   "metadata": {},
   "outputs": [
    {
     "data": {
      "text/plain": [
       "PERBELANJAAN              876890\n",
       "PERKANTORAN                75407\n",
       "SARANA TRANSPORTASI        45250\n",
       "INDUSTRI                   15894\n",
       "AKOMODASI                   8409\n",
       "MAKANAN & MINUMAN           5840\n",
       "SARANA OLAHRAGA             3646\n",
       "SARANA HIBURAN              2560\n",
       "FASILITAS KESEHATAN         2183\n",
       "INSTITUSI PENDIDIKAN         985\n",
       "TEMPAT IBADAH                406\n",
       "KECANTIKAN & RELAKSASI         4\n",
       "Name: outlet_category, dtype: int64"
      ]
     },
     "execution_count": 26,
     "metadata": {},
     "output_type": "execute_result"
    }
   ],
   "source": [
    "df_pl['outlet_category'].value_counts()"
   ]
  },
  {
   "cell_type": "code",
   "execution_count": 27,
   "id": "92fb2961",
   "metadata": {},
   "outputs": [
    {
     "data": {
      "text/plain": [
       "MALL                              868761\n",
       "GEDUNG PERKANTORAN SWASTA          61257\n",
       "STASIUN                            45069\n",
       "PABRIK / REFINERY / PEMBANGKIT     15493\n",
       "KANTOR BUMN                         9315\n",
       "                                   ...  \n",
       "GALERI SENI                            1\n",
       "SPA                                    1\n",
       "LABORATORIUM                           1\n",
       "LEMBAGA KURSUS                         1\n",
       "AKOMODASI                              1\n",
       "Name: outlet_sub_category, Length: 62, dtype: int64"
      ]
     },
     "execution_count": 27,
     "metadata": {},
     "output_type": "execute_result"
    }
   ],
   "source": [
    "df_pl['outlet_sub_category'].value_counts()"
   ]
  },
  {
   "cell_type": "code",
   "execution_count": 28,
   "id": "c86f638a",
   "metadata": {},
   "outputs": [],
   "source": [
    "df_pl['gender'] = df_pl['gender'].fillna('MALE')\n",
    "df_pl['outlet_category'] = df_pl['outlet_category'].fillna('PERBELANJAAN')\n",
    "df_pl['outlet_sub_category'] = df_pl['outlet_sub_category'].fillna('MALL')"
   ]
  },
  {
   "cell_type": "code",
   "execution_count": 29,
   "id": "1d14fada",
   "metadata": {},
   "outputs": [
    {
     "data": {
      "text/plain": [
       "user_covid19_status    0\n",
       "gender                 0\n",
       "province_name          0\n",
       "city_name              0\n",
       "outlet_category        0\n",
       "outlet_sub_category    0\n",
       "user_color_status      0\n",
       "dtype: int64"
      ]
     },
     "execution_count": 29,
     "metadata": {},
     "output_type": "execute_result"
    }
   ],
   "source": [
    "df_pl[obj_cols].isna().sum()"
   ]
  },
  {
   "cell_type": "code",
   "execution_count": 30,
   "id": "697e7d60",
   "metadata": {},
   "outputs": [
    {
     "data": {
      "text/plain": [
       "checkin_timestamp          0\n",
       "checkout_timestamp    501895\n",
       "checkin_tanggal            0\n",
       "dtype: int64"
      ]
     },
     "execution_count": 30,
     "metadata": {},
     "output_type": "execute_result"
    }
   ],
   "source": [
    "df_pl[date_cols].isna().sum()"
   ]
  },
  {
   "cell_type": "code",
   "execution_count": 31,
   "id": "d8243201",
   "metadata": {},
   "outputs": [],
   "source": [
    "del df_pl['checkout_timestamp']"
   ]
  },
  {
   "cell_type": "code",
   "execution_count": 32,
   "id": "c0eca778",
   "metadata": {},
   "outputs": [
    {
     "data": {
      "text/html": [
       "<div>\n",
       "<style scoped>\n",
       "    .dataframe tbody tr th:only-of-type {\n",
       "        vertical-align: middle;\n",
       "    }\n",
       "\n",
       "    .dataframe tbody tr th {\n",
       "        vertical-align: top;\n",
       "    }\n",
       "\n",
       "    .dataframe thead th {\n",
       "        text-align: right;\n",
       "    }\n",
       "</style>\n",
       "<table border=\"1\" class=\"dataframe\">\n",
       "  <thead>\n",
       "    <tr style=\"text-align: right;\">\n",
       "      <th></th>\n",
       "      <th>checkin_timestamp</th>\n",
       "      <th>checkin_tanggal</th>\n",
       "    </tr>\n",
       "  </thead>\n",
       "  <tbody>\n",
       "    <tr>\n",
       "      <th>0</th>\n",
       "      <td>2022-03-28 12:24:26+00:00</td>\n",
       "      <td>2022-03-28</td>\n",
       "    </tr>\n",
       "    <tr>\n",
       "      <th>1</th>\n",
       "      <td>2022-03-28 12:26:16+00:00</td>\n",
       "      <td>2022-03-28</td>\n",
       "    </tr>\n",
       "    <tr>\n",
       "      <th>2</th>\n",
       "      <td>2022-03-28 12:52:00+00:00</td>\n",
       "      <td>2022-03-28</td>\n",
       "    </tr>\n",
       "    <tr>\n",
       "      <th>3</th>\n",
       "      <td>2022-03-28 12:53:13+00:00</td>\n",
       "      <td>2022-03-28</td>\n",
       "    </tr>\n",
       "    <tr>\n",
       "      <th>4</th>\n",
       "      <td>2022-03-28 12:55:17+00:00</td>\n",
       "      <td>2022-03-28</td>\n",
       "    </tr>\n",
       "  </tbody>\n",
       "</table>\n",
       "</div>"
      ],
      "text/plain": [
       "          checkin_timestamp checkin_tanggal\n",
       "0 2022-03-28 12:24:26+00:00      2022-03-28\n",
       "1 2022-03-28 12:26:16+00:00      2022-03-28\n",
       "2 2022-03-28 12:52:00+00:00      2022-03-28\n",
       "3 2022-03-28 12:53:13+00:00      2022-03-28\n",
       "4 2022-03-28 12:55:17+00:00      2022-03-28"
      ]
     },
     "execution_count": 32,
     "metadata": {},
     "output_type": "execute_result"
    }
   ],
   "source": [
    "date_cols = df_pl.select_dtypes(include=['datetime64[ns, UTC]','datetime64[ns]']).columns\n",
    "df_pl[date_cols].head()"
   ]
  },
  {
   "cell_type": "code",
   "execution_count": 33,
   "id": "13f7c3ff",
   "metadata": {},
   "outputs": [],
   "source": [
    "df_update = df_pl.copy()"
   ]
  },
  {
   "cell_type": "code",
   "execution_count": 34,
   "id": "29156384",
   "metadata": {},
   "outputs": [],
   "source": [
    "df_clean = df_update.dropna(axis=1)\n"
   ]
  },
  {
   "cell_type": "code",
   "execution_count": 35,
   "id": "00b3aee3",
   "metadata": {},
   "outputs": [
    {
     "data": {
      "text/html": [
       "<div>\n",
       "<style scoped>\n",
       "    .dataframe tbody tr th:only-of-type {\n",
       "        vertical-align: middle;\n",
       "    }\n",
       "\n",
       "    .dataframe tbody tr th {\n",
       "        vertical-align: top;\n",
       "    }\n",
       "\n",
       "    .dataframe thead th {\n",
       "        text-align: right;\n",
       "    }\n",
       "</style>\n",
       "<table border=\"1\" class=\"dataframe\">\n",
       "  <thead>\n",
       "    <tr style=\"text-align: right;\">\n",
       "      <th></th>\n",
       "      <th>user_covid19_status</th>\n",
       "      <th>gender</th>\n",
       "      <th>checkin_timestamp</th>\n",
       "      <th>province_name</th>\n",
       "      <th>city_name</th>\n",
       "      <th>outlet_category</th>\n",
       "      <th>outlet_sub_category</th>\n",
       "      <th>user_color_status</th>\n",
       "      <th>checkin_tanggal</th>\n",
       "    </tr>\n",
       "  </thead>\n",
       "  <tbody>\n",
       "    <tr>\n",
       "      <th>0</th>\n",
       "      <td>NOT POSITIVE</td>\n",
       "      <td>MALE</td>\n",
       "      <td>2022-03-28 12:24:26+00:00</td>\n",
       "      <td>DAERAH ISTIMEWA YOGYAKARTA</td>\n",
       "      <td>KAB. SLEMAN</td>\n",
       "      <td>PERBELANJAAN</td>\n",
       "      <td>MALL</td>\n",
       "      <td>GREEN</td>\n",
       "      <td>2022-03-28</td>\n",
       "    </tr>\n",
       "    <tr>\n",
       "      <th>1</th>\n",
       "      <td>NOT POSITIVE</td>\n",
       "      <td>FEMALE</td>\n",
       "      <td>2022-03-28 12:26:16+00:00</td>\n",
       "      <td>JAWA BARAT</td>\n",
       "      <td>KAB. BOGOR</td>\n",
       "      <td>MAKANAN &amp; MINUMAN</td>\n",
       "      <td>RESTORAN</td>\n",
       "      <td>GREEN</td>\n",
       "      <td>2022-03-28</td>\n",
       "    </tr>\n",
       "    <tr>\n",
       "      <th>2</th>\n",
       "      <td>NOT POSITIVE</td>\n",
       "      <td>MALE</td>\n",
       "      <td>2022-03-28 12:52:00+00:00</td>\n",
       "      <td>SUMATERA SELATAN</td>\n",
       "      <td>KOTA PALEMBANG</td>\n",
       "      <td>PERBELANJAAN</td>\n",
       "      <td>MALL</td>\n",
       "      <td>GREEN</td>\n",
       "      <td>2022-03-28</td>\n",
       "    </tr>\n",
       "    <tr>\n",
       "      <th>3</th>\n",
       "      <td>NOT POSITIVE</td>\n",
       "      <td>MALE</td>\n",
       "      <td>2022-03-28 12:53:13+00:00</td>\n",
       "      <td>DAERAH ISTIMEWA YOGYAKARTA</td>\n",
       "      <td>KAB. SLEMAN</td>\n",
       "      <td>PERBELANJAAN</td>\n",
       "      <td>MALL</td>\n",
       "      <td>GREEN</td>\n",
       "      <td>2022-03-28</td>\n",
       "    </tr>\n",
       "    <tr>\n",
       "      <th>4</th>\n",
       "      <td>NOT POSITIVE</td>\n",
       "      <td>MALE</td>\n",
       "      <td>2022-03-28 12:55:17+00:00</td>\n",
       "      <td>JAWA BARAT</td>\n",
       "      <td>KOTA BOGOR</td>\n",
       "      <td>PERBELANJAAN</td>\n",
       "      <td>MALL</td>\n",
       "      <td>GREEN</td>\n",
       "      <td>2022-03-28</td>\n",
       "    </tr>\n",
       "  </tbody>\n",
       "</table>\n",
       "</div>"
      ],
      "text/plain": [
       "  user_covid19_status  gender         checkin_timestamp  \\\n",
       "0        NOT POSITIVE    MALE 2022-03-28 12:24:26+00:00   \n",
       "1        NOT POSITIVE  FEMALE 2022-03-28 12:26:16+00:00   \n",
       "2        NOT POSITIVE    MALE 2022-03-28 12:52:00+00:00   \n",
       "3        NOT POSITIVE    MALE 2022-03-28 12:53:13+00:00   \n",
       "4        NOT POSITIVE    MALE 2022-03-28 12:55:17+00:00   \n",
       "\n",
       "                province_name       city_name    outlet_category  \\\n",
       "0  DAERAH ISTIMEWA YOGYAKARTA     KAB. SLEMAN       PERBELANJAAN   \n",
       "1                  JAWA BARAT      KAB. BOGOR  MAKANAN & MINUMAN   \n",
       "2            SUMATERA SELATAN  KOTA PALEMBANG       PERBELANJAAN   \n",
       "3  DAERAH ISTIMEWA YOGYAKARTA     KAB. SLEMAN       PERBELANJAAN   \n",
       "4                  JAWA BARAT      KOTA BOGOR       PERBELANJAAN   \n",
       "\n",
       "  outlet_sub_category user_color_status checkin_tanggal  \n",
       "0                MALL             GREEN      2022-03-28  \n",
       "1            RESTORAN             GREEN      2022-03-28  \n",
       "2                MALL             GREEN      2022-03-28  \n",
       "3                MALL             GREEN      2022-03-28  \n",
       "4                MALL             GREEN      2022-03-28  "
      ]
     },
     "execution_count": 35,
     "metadata": {},
     "output_type": "execute_result"
    }
   ],
   "source": [
    "df_clean.head()"
   ]
  },
  {
   "cell_type": "markdown",
   "id": "db9d87f0",
   "metadata": {},
   "source": [
    "Data yang sudah dibersihkan"
   ]
  },
  {
   "cell_type": "code",
   "execution_count": 36,
   "id": "3aa407a0",
   "metadata": {},
   "outputs": [
    {
     "data": {
      "text/html": [
       "<div>\n",
       "<style scoped>\n",
       "    .dataframe tbody tr th:only-of-type {\n",
       "        vertical-align: middle;\n",
       "    }\n",
       "\n",
       "    .dataframe tbody tr th {\n",
       "        vertical-align: top;\n",
       "    }\n",
       "\n",
       "    .dataframe thead th {\n",
       "        text-align: right;\n",
       "    }\n",
       "</style>\n",
       "<table border=\"1\" class=\"dataframe\">\n",
       "  <thead>\n",
       "    <tr style=\"text-align: right;\">\n",
       "      <th></th>\n",
       "      <th>user_covid19_status</th>\n",
       "      <th>gender</th>\n",
       "      <th>province_name</th>\n",
       "      <th>city_name</th>\n",
       "      <th>outlet_category</th>\n",
       "      <th>outlet_sub_category</th>\n",
       "      <th>user_color_status</th>\n",
       "    </tr>\n",
       "  </thead>\n",
       "  <tbody>\n",
       "    <tr>\n",
       "      <th>0</th>\n",
       "      <td>NOT POSITIVE</td>\n",
       "      <td>MALE</td>\n",
       "      <td>DAERAH ISTIMEWA YOGYAKARTA</td>\n",
       "      <td>KAB. SLEMAN</td>\n",
       "      <td>PERBELANJAAN</td>\n",
       "      <td>MALL</td>\n",
       "      <td>GREEN</td>\n",
       "    </tr>\n",
       "    <tr>\n",
       "      <th>1</th>\n",
       "      <td>NOT POSITIVE</td>\n",
       "      <td>FEMALE</td>\n",
       "      <td>JAWA BARAT</td>\n",
       "      <td>KAB. BOGOR</td>\n",
       "      <td>MAKANAN &amp; MINUMAN</td>\n",
       "      <td>RESTORAN</td>\n",
       "      <td>GREEN</td>\n",
       "    </tr>\n",
       "    <tr>\n",
       "      <th>2</th>\n",
       "      <td>NOT POSITIVE</td>\n",
       "      <td>MALE</td>\n",
       "      <td>SUMATERA SELATAN</td>\n",
       "      <td>KOTA PALEMBANG</td>\n",
       "      <td>PERBELANJAAN</td>\n",
       "      <td>MALL</td>\n",
       "      <td>GREEN</td>\n",
       "    </tr>\n",
       "    <tr>\n",
       "      <th>3</th>\n",
       "      <td>NOT POSITIVE</td>\n",
       "      <td>MALE</td>\n",
       "      <td>DAERAH ISTIMEWA YOGYAKARTA</td>\n",
       "      <td>KAB. SLEMAN</td>\n",
       "      <td>PERBELANJAAN</td>\n",
       "      <td>MALL</td>\n",
       "      <td>GREEN</td>\n",
       "    </tr>\n",
       "    <tr>\n",
       "      <th>4</th>\n",
       "      <td>NOT POSITIVE</td>\n",
       "      <td>MALE</td>\n",
       "      <td>JAWA BARAT</td>\n",
       "      <td>KOTA BOGOR</td>\n",
       "      <td>PERBELANJAAN</td>\n",
       "      <td>MALL</td>\n",
       "      <td>GREEN</td>\n",
       "    </tr>\n",
       "  </tbody>\n",
       "</table>\n",
       "</div>"
      ],
      "text/plain": [
       "  user_covid19_status  gender               province_name       city_name  \\\n",
       "0        NOT POSITIVE    MALE  DAERAH ISTIMEWA YOGYAKARTA     KAB. SLEMAN   \n",
       "1        NOT POSITIVE  FEMALE                  JAWA BARAT      KAB. BOGOR   \n",
       "2        NOT POSITIVE    MALE            SUMATERA SELATAN  KOTA PALEMBANG   \n",
       "3        NOT POSITIVE    MALE  DAERAH ISTIMEWA YOGYAKARTA     KAB. SLEMAN   \n",
       "4        NOT POSITIVE    MALE                  JAWA BARAT      KOTA BOGOR   \n",
       "\n",
       "     outlet_category outlet_sub_category user_color_status  \n",
       "0       PERBELANJAAN                MALL             GREEN  \n",
       "1  MAKANAN & MINUMAN            RESTORAN             GREEN  \n",
       "2       PERBELANJAAN                MALL             GREEN  \n",
       "3       PERBELANJAAN                MALL             GREEN  \n",
       "4       PERBELANJAAN                MALL             GREEN  "
      ]
     },
     "execution_count": 36,
     "metadata": {},
     "output_type": "execute_result"
    }
   ],
   "source": [
    "clean_obj = df_clean.select_dtypes('object').columns\n",
    "\n",
    "df_clean[clean_obj].head()"
   ]
  },
  {
   "cell_type": "markdown",
   "id": "474c5057",
   "metadata": {},
   "source": [
    "## Visualisasi Data"
   ]
  },
  {
   "cell_type": "code",
   "execution_count": 37,
   "id": "ff437ffb",
   "metadata": {},
   "outputs": [],
   "source": [
    "import matplotlib.pyplot as plt\n",
    "import seaborn as sns\n",
    "\n",
    "%matplotlib inline"
   ]
  },
  {
   "cell_type": "code",
   "execution_count": 38,
   "id": "f4dba5d8",
   "metadata": {},
   "outputs": [],
   "source": [
    "def plot_all_hist(df, columns):\n",
    "    for col in columns:\n",
    "        plt.figure(figsize=(10,6))\n",
    "        sns.countplot(x=col, data=df)\n",
    "        plt.xlabel(col.capitalize())\n",
    "        plt.xticks(rotation='90')\n",
    "        plt.tight_layout()\n",
    "        plt.show()"
   ]
  },
  {
   "cell_type": "code",
   "execution_count": 39,
   "id": "8ad548bc",
   "metadata": {},
   "outputs": [
    {
     "data": {
      "image/png": "[encoded data removed]",
      "text/plain": [
       "<Figure size 720x432 with 1 Axes>"
      ]
     },
     "metadata": {
      "needs_background": "light"
     },
     "output_type": "display_data"
    },
    {
     "data": {
      "image/png": "[encoded data removed]",
      "text/plain": [
       "<Figure size 720x432 with 1 Axes>"
      ]
     },
     "metadata": {
      "needs_background": "light"
     },
     "output_type": "display_data"
    },
    {
     "data": {
      "image/png": "[encoded data removed]",
      "text/plain": [
       "<Figure size 720x432 with 1 Axes>"
      ]
     },
     "metadata": {
      "needs_background": "light"
     },
     "output_type": "display_data"
    },
    {
     "data": {
      "image/png": "[encoded data removed]",
      "text/plain": [
       "<Figure size 720x432 with 1 Axes>"
      ]
     },
     "metadata": {
      "needs_background": "light"
     },
     "output_type": "display_data"
    },
    {
     "data": {
      "image/png": "[encoded data removed]",
      "text/plain": [
       "<Figure size 720x432 with 1 Axes>"
      ]
     },
     "metadata": {
      "needs_background": "light"
     },
     "output_type": "display_data"
    },
    {
     "data": {
      "image/png": "[encoded data removed]",
      "text/plain": [
       "<Figure size 720x432 with 1 Axes>"
      ]
     },
     "metadata": {
      "needs_background": "light"
     },
     "output_type": "display_data"
    },
    {
     "data": {
      "image/png": "[encoded data removed]",
      "text/plain": [
       "<Figure size 720x432 with 1 Axes>"
      ]
     },
     "metadata": {
      "needs_background": "light"
     },
     "output_type": "display_data"
    }
   ],
   "source": [
    "plot_all_hist(df_clean, clean_obj)"
   ]
  },
  {
   "cell_type": "code",
   "execution_count": 40,
   "id": "36550ccf",
   "metadata": {},
   "outputs": [],
   "source": [
    "my_pivot = df_pl.pivot_table(index = 'checkin_tanggal', \n",
    "                          columns = 'user_color_status', \n",
    "                          fill_value = 0, \n",
    "                          aggfunc={'user_color_status':len})['user_color_status']"
   ]
  },
  {
   "cell_type": "code",
   "execution_count": 41,
   "id": "1e905a93",
   "metadata": {},
   "outputs": [
    {
     "data": {
      "image/png": "[encoded data removed]",
      "text/plain": [
       "<Figure size 432x288 with 1 Axes>"
      ]
     },
     "metadata": {
      "needs_background": "light"
     },
     "output_type": "display_data"
    }
   ],
   "source": [
    "my_pivot.plot.line()\n",
    "plt.tight_layout()\n",
    "plt.show()"
   ]
  },
  {
   "cell_type": "markdown",
   "id": "f068dac3",
   "metadata": {},
   "source": [
    "## Preprocessing Data"
   ]
  },
  {
   "cell_type": "code",
   "execution_count": 48,
   "id": "57c2c833",
   "metadata": {},
   "outputs": [],
   "source": [
    "from sklearn.preprocessing import LabelEncoder"
   ]
  },
  {
   "cell_type": "code",
   "execution_count": 49,
   "id": "86770cbd",
   "metadata": {},
   "outputs": [],
   "source": [
    "le = LabelEncoder()\n",
    "for column in clean_obj:\n",
    "    df_clean[column] = le.fit_transform(df_clean[column])"
   ]
  },
  {
   "cell_type": "code",
   "execution_count": 50,
   "id": "08f8887e",
   "metadata": {},
   "outputs": [
    {
     "data": {
      "text/html": [
       "<div>\n",
       "<style scoped>\n",
       "    .dataframe tbody tr th:only-of-type {\n",
       "        vertical-align: middle;\n",
       "    }\n",
       "\n",
       "    .dataframe tbody tr th {\n",
       "        vertical-align: top;\n",
       "    }\n",
       "\n",
       "    .dataframe thead th {\n",
       "        text-align: right;\n",
       "    }\n",
       "</style>\n",
       "<table border=\"1\" class=\"dataframe\">\n",
       "  <thead>\n",
       "    <tr style=\"text-align: right;\">\n",
       "      <th></th>\n",
       "      <th>user_covid19_status</th>\n",
       "      <th>gender</th>\n",
       "      <th>checkin_timestamp</th>\n",
       "      <th>province_name</th>\n",
       "      <th>city_name</th>\n",
       "      <th>outlet_category</th>\n",
       "      <th>outlet_sub_category</th>\n",
       "      <th>user_color_status</th>\n",
       "      <th>checkin_tanggal</th>\n",
       "    </tr>\n",
       "  </thead>\n",
       "  <tbody>\n",
       "    <tr>\n",
       "      <th>0</th>\n",
       "      <td>0</td>\n",
       "      <td>1</td>\n",
       "      <td>2022-03-28 12:24:26+00:00</td>\n",
       "      <td>2</td>\n",
       "      <td>48</td>\n",
       "      <td>6</td>\n",
       "      <td>27</td>\n",
       "      <td>1</td>\n",
       "      <td>2022-03-28</td>\n",
       "    </tr>\n",
       "    <tr>\n",
       "      <th>1</th>\n",
       "      <td>0</td>\n",
       "      <td>0</td>\n",
       "      <td>2022-03-28 12:26:16+00:00</td>\n",
       "      <td>5</td>\n",
       "      <td>11</td>\n",
       "      <td>5</td>\n",
       "      <td>41</td>\n",
       "      <td>1</td>\n",
       "      <td>2022-03-28</td>\n",
       "    </tr>\n",
       "    <tr>\n",
       "      <th>2</th>\n",
       "      <td>0</td>\n",
       "      <td>1</td>\n",
       "      <td>2022-03-28 12:52:00+00:00</td>\n",
       "      <td>20</td>\n",
       "      <td>82</td>\n",
       "      <td>6</td>\n",
       "      <td>27</td>\n",
       "      <td>1</td>\n",
       "      <td>2022-03-28</td>\n",
       "    </tr>\n",
       "    <tr>\n",
       "      <th>3</th>\n",
       "      <td>0</td>\n",
       "      <td>1</td>\n",
       "      <td>2022-03-28 12:53:13+00:00</td>\n",
       "      <td>2</td>\n",
       "      <td>48</td>\n",
       "      <td>6</td>\n",
       "      <td>27</td>\n",
       "      <td>1</td>\n",
       "      <td>2022-03-28</td>\n",
       "    </tr>\n",
       "    <tr>\n",
       "      <th>4</th>\n",
       "      <td>0</td>\n",
       "      <td>1</td>\n",
       "      <td>2022-03-28 12:55:17+00:00</td>\n",
       "      <td>5</td>\n",
       "      <td>65</td>\n",
       "      <td>6</td>\n",
       "      <td>27</td>\n",
       "      <td>1</td>\n",
       "      <td>2022-03-28</td>\n",
       "    </tr>\n",
       "  </tbody>\n",
       "</table>\n",
       "</div>"
      ],
      "text/plain": [
       "   user_covid19_status  gender         checkin_timestamp  province_name  \\\n",
       "0                    0       1 2022-03-28 12:24:26+00:00              2   \n",
       "1                    0       0 2022-03-28 12:26:16+00:00              5   \n",
       "2                    0       1 2022-03-28 12:52:00+00:00             20   \n",
       "3                    0       1 2022-03-28 12:53:13+00:00              2   \n",
       "4                    0       1 2022-03-28 12:55:17+00:00              5   \n",
       "\n",
       "   city_name  outlet_category  outlet_sub_category  user_color_status  \\\n",
       "0         48                6                   27                  1   \n",
       "1         11                5                   41                  1   \n",
       "2         82                6                   27                  1   \n",
       "3         48                6                   27                  1   \n",
       "4         65                6                   27                  1   \n",
       "\n",
       "  checkin_tanggal  \n",
       "0      2022-03-28  \n",
       "1      2022-03-28  \n",
       "2      2022-03-28  \n",
       "3      2022-03-28  \n",
       "4      2022-03-28  "
      ]
     },
     "execution_count": 50,
     "metadata": {},
     "output_type": "execute_result"
    }
   ],
   "source": [
    "df_clean.head()"
   ]
  },
  {
   "cell_type": "code",
   "execution_count": 51,
   "id": "b42dc9ae",
   "metadata": {},
   "outputs": [
    {
     "name": "stdout",
     "output_type": "stream",
     "text": [
      "<class 'pandas.core.frame.DataFrame'>\n",
      "RangeIndex: 1048575 entries, 0 to 1048574\n",
      "Data columns (total 9 columns):\n",
      " #   Column               Non-Null Count    Dtype              \n",
      "---  ------               --------------    -----              \n",
      " 0   user_covid19_status  1048575 non-null  int64              \n",
      " 1   gender               1048575 non-null  int64              \n",
      " 2   checkin_timestamp    1048575 non-null  datetime64[ns, UTC]\n",
      " 3   province_name        1048575 non-null  int64              \n",
      " 4   city_name            1048575 non-null  int64              \n",
      " 5   outlet_category      1048575 non-null  int64              \n",
      " 6   outlet_sub_category  1048575 non-null  int64              \n",
      " 7   user_color_status    1048575 non-null  int64              \n",
      " 8   checkin_tanggal      1048575 non-null  datetime64[ns]     \n",
      "dtypes: datetime64[ns, UTC](1), datetime64[ns](1), int64(7)\n",
      "memory usage: 72.0 MB\n"
     ]
    }
   ],
   "source": [
    "df_clean.info()\n"
   ]
  },
  {
   "cell_type": "code",
   "execution_count": 47,
   "id": "e49cb787",
   "metadata": {},
   "outputs": [
    {
     "data": {
      "text/plain": [
       "1    1006944\n",
       "3      40722\n",
       "2        861\n",
       "0         48\n",
       "Name: user_color_status, dtype: int64"
      ]
     },
     "execution_count": 47,
     "metadata": {},
     "output_type": "execute_result"
    }
   ],
   "source": [
    "df_clean['user_color_status'].value_counts()"
   ]
  },
  {
   "cell_type": "code",
   "execution_count": 52,
   "id": "d4144dde",
   "metadata": {},
   "outputs": [
    {
     "data": {
      "text/html": [
       "<div>\n",
       "<style scoped>\n",
       "    .dataframe tbody tr th:only-of-type {\n",
       "        vertical-align: middle;\n",
       "    }\n",
       "\n",
       "    .dataframe tbody tr th {\n",
       "        vertical-align: top;\n",
       "    }\n",
       "\n",
       "    .dataframe thead th {\n",
       "        text-align: right;\n",
       "    }\n",
       "</style>\n",
       "<table border=\"1\" class=\"dataframe\">\n",
       "  <thead>\n",
       "    <tr style=\"text-align: right;\">\n",
       "      <th></th>\n",
       "      <th>user_covid19_status</th>\n",
       "      <th>gender</th>\n",
       "      <th>province_name</th>\n",
       "      <th>city_name</th>\n",
       "      <th>outlet_category</th>\n",
       "      <th>outlet_sub_category</th>\n",
       "      <th>user_color_status</th>\n",
       "    </tr>\n",
       "  </thead>\n",
       "  <tbody>\n",
       "    <tr>\n",
       "      <th>user_covid19_status</th>\n",
       "      <td>NaN</td>\n",
       "      <td>NaN</td>\n",
       "      <td>NaN</td>\n",
       "      <td>NaN</td>\n",
       "      <td>NaN</td>\n",
       "      <td>NaN</td>\n",
       "      <td>NaN</td>\n",
       "    </tr>\n",
       "    <tr>\n",
       "      <th>gender</th>\n",
       "      <td>NaN</td>\n",
       "      <td>1.000000</td>\n",
       "      <td>0.024093</td>\n",
       "      <td>0.016198</td>\n",
       "      <td>-0.181225</td>\n",
       "      <td>-0.136217</td>\n",
       "      <td>0.043154</td>\n",
       "    </tr>\n",
       "    <tr>\n",
       "      <th>province_name</th>\n",
       "      <td>NaN</td>\n",
       "      <td>0.024093</td>\n",
       "      <td>1.000000</td>\n",
       "      <td>0.318539</td>\n",
       "      <td>-0.085080</td>\n",
       "      <td>-0.010351</td>\n",
       "      <td>0.102253</td>\n",
       "    </tr>\n",
       "    <tr>\n",
       "      <th>city_name</th>\n",
       "      <td>NaN</td>\n",
       "      <td>0.016198</td>\n",
       "      <td>0.318539</td>\n",
       "      <td>1.000000</td>\n",
       "      <td>0.126221</td>\n",
       "      <td>0.037642</td>\n",
       "      <td>0.100139</td>\n",
       "    </tr>\n",
       "    <tr>\n",
       "      <th>outlet_category</th>\n",
       "      <td>NaN</td>\n",
       "      <td>-0.181225</td>\n",
       "      <td>-0.085080</td>\n",
       "      <td>0.126221</td>\n",
       "      <td>1.000000</td>\n",
       "      <td>0.344109</td>\n",
       "      <td>-0.019664</td>\n",
       "    </tr>\n",
       "    <tr>\n",
       "      <th>outlet_sub_category</th>\n",
       "      <td>NaN</td>\n",
       "      <td>-0.136217</td>\n",
       "      <td>-0.010351</td>\n",
       "      <td>0.037642</td>\n",
       "      <td>0.344109</td>\n",
       "      <td>1.000000</td>\n",
       "      <td>-0.004138</td>\n",
       "    </tr>\n",
       "    <tr>\n",
       "      <th>user_color_status</th>\n",
       "      <td>NaN</td>\n",
       "      <td>0.043154</td>\n",
       "      <td>0.102253</td>\n",
       "      <td>0.100139</td>\n",
       "      <td>-0.019664</td>\n",
       "      <td>-0.004138</td>\n",
       "      <td>1.000000</td>\n",
       "    </tr>\n",
       "  </tbody>\n",
       "</table>\n",
       "</div>"
      ],
      "text/plain": [
       "                     user_covid19_status    gender  province_name  city_name  \\\n",
       "user_covid19_status                  NaN       NaN            NaN        NaN   \n",
       "gender                               NaN  1.000000       0.024093   0.016198   \n",
       "province_name                        NaN  0.024093       1.000000   0.318539   \n",
       "city_name                            NaN  0.016198       0.318539   1.000000   \n",
       "outlet_category                      NaN -0.181225      -0.085080   0.126221   \n",
       "outlet_sub_category                  NaN -0.136217      -0.010351   0.037642   \n",
       "user_color_status                    NaN  0.043154       0.102253   0.100139   \n",
       "\n",
       "                     outlet_category  outlet_sub_category  user_color_status  \n",
       "user_covid19_status              NaN                  NaN                NaN  \n",
       "gender                     -0.181225            -0.136217           0.043154  \n",
       "province_name              -0.085080            -0.010351           0.102253  \n",
       "city_name                   0.126221             0.037642           0.100139  \n",
       "outlet_category             1.000000             0.344109          -0.019664  \n",
       "outlet_sub_category         0.344109             1.000000          -0.004138  \n",
       "user_color_status          -0.019664            -0.004138           1.000000  "
      ]
     },
     "execution_count": 52,
     "metadata": {},
     "output_type": "execute_result"
    }
   ],
   "source": [
    "df_clean.corr()"
   ]
  },
  {
   "cell_type": "code",
   "execution_count": 53,
   "id": "be74c597",
   "metadata": {},
   "outputs": [
    {
     "data": {
      "text/html": [
       "<div>\n",
       "<style scoped>\n",
       "    .dataframe tbody tr th:only-of-type {\n",
       "        vertical-align: middle;\n",
       "    }\n",
       "\n",
       "    .dataframe tbody tr th {\n",
       "        vertical-align: top;\n",
       "    }\n",
       "\n",
       "    .dataframe thead th {\n",
       "        text-align: right;\n",
       "    }\n",
       "</style>\n",
       "<table border=\"1\" class=\"dataframe\">\n",
       "  <thead>\n",
       "    <tr style=\"text-align: right;\">\n",
       "      <th></th>\n",
       "      <th>user_covid19_status</th>\n",
       "      <th>gender</th>\n",
       "      <th>province_name</th>\n",
       "      <th>city_name</th>\n",
       "      <th>outlet_category</th>\n",
       "      <th>outlet_sub_category</th>\n",
       "      <th>user_color_status</th>\n",
       "    </tr>\n",
       "  </thead>\n",
       "  <tbody>\n",
       "    <tr>\n",
       "      <th>user_covid19_status</th>\n",
       "      <td>False</td>\n",
       "      <td>False</td>\n",
       "      <td>False</td>\n",
       "      <td>False</td>\n",
       "      <td>False</td>\n",
       "      <td>False</td>\n",
       "      <td>False</td>\n",
       "    </tr>\n",
       "    <tr>\n",
       "      <th>gender</th>\n",
       "      <td>False</td>\n",
       "      <td>True</td>\n",
       "      <td>False</td>\n",
       "      <td>False</td>\n",
       "      <td>False</td>\n",
       "      <td>False</td>\n",
       "      <td>False</td>\n",
       "    </tr>\n",
       "    <tr>\n",
       "      <th>province_name</th>\n",
       "      <td>False</td>\n",
       "      <td>False</td>\n",
       "      <td>True</td>\n",
       "      <td>True</td>\n",
       "      <td>False</td>\n",
       "      <td>False</td>\n",
       "      <td>True</td>\n",
       "    </tr>\n",
       "    <tr>\n",
       "      <th>city_name</th>\n",
       "      <td>False</td>\n",
       "      <td>False</td>\n",
       "      <td>True</td>\n",
       "      <td>True</td>\n",
       "      <td>True</td>\n",
       "      <td>False</td>\n",
       "      <td>True</td>\n",
       "    </tr>\n",
       "    <tr>\n",
       "      <th>outlet_category</th>\n",
       "      <td>False</td>\n",
       "      <td>False</td>\n",
       "      <td>False</td>\n",
       "      <td>True</td>\n",
       "      <td>True</td>\n",
       "      <td>True</td>\n",
       "      <td>False</td>\n",
       "    </tr>\n",
       "    <tr>\n",
       "      <th>outlet_sub_category</th>\n",
       "      <td>False</td>\n",
       "      <td>False</td>\n",
       "      <td>False</td>\n",
       "      <td>False</td>\n",
       "      <td>True</td>\n",
       "      <td>True</td>\n",
       "      <td>False</td>\n",
       "    </tr>\n",
       "    <tr>\n",
       "      <th>user_color_status</th>\n",
       "      <td>False</td>\n",
       "      <td>False</td>\n",
       "      <td>True</td>\n",
       "      <td>True</td>\n",
       "      <td>False</td>\n",
       "      <td>False</td>\n",
       "      <td>True</td>\n",
       "    </tr>\n",
       "  </tbody>\n",
       "</table>\n",
       "</div>"
      ],
      "text/plain": [
       "                     user_covid19_status  gender  province_name  city_name  \\\n",
       "user_covid19_status                False   False          False      False   \n",
       "gender                             False    True          False      False   \n",
       "province_name                      False   False           True       True   \n",
       "city_name                          False   False           True       True   \n",
       "outlet_category                    False   False          False       True   \n",
       "outlet_sub_category                False   False          False      False   \n",
       "user_color_status                  False   False           True       True   \n",
       "\n",
       "                     outlet_category  outlet_sub_category  user_color_status  \n",
       "user_covid19_status            False                False              False  \n",
       "gender                         False                False              False  \n",
       "province_name                  False                False               True  \n",
       "city_name                       True                False               True  \n",
       "outlet_category                 True                 True              False  \n",
       "outlet_sub_category             True                 True              False  \n",
       "user_color_status              False                False               True  "
      ]
     },
     "execution_count": 53,
     "metadata": {},
     "output_type": "execute_result"
    }
   ],
   "source": [
    "df_clean.corr() >0.1"
   ]
  },
  {
   "cell_type": "code",
   "execution_count": 54,
   "id": "ae5cb3f9",
   "metadata": {},
   "outputs": [
    {
     "data": {
      "image/png": "[encoded data removed]",
      "text/plain": [
       "<Figure size 720x576 with 2 Axes>"
      ]
     },
     "metadata": {
      "needs_background": "light"
     },
     "output_type": "display_data"
    }
   ],
   "source": [
    "plt.figure(figsize=(10,8))\n",
    "sns.heatmap(df_clean.corr(), annot=True)\n",
    "plt.show()"
   ]
  },
  {
   "cell_type": "code",
   "execution_count": 58,
   "id": "846feecb",
   "metadata": {},
   "outputs": [
    {
     "data": {
      "text/html": [
       "<div>\n",
       "<style scoped>\n",
       "    .dataframe tbody tr th:only-of-type {\n",
       "        vertical-align: middle;\n",
       "    }\n",
       "\n",
       "    .dataframe tbody tr th {\n",
       "        vertical-align: top;\n",
       "    }\n",
       "\n",
       "    .dataframe thead th {\n",
       "        text-align: right;\n",
       "    }\n",
       "</style>\n",
       "<table border=\"1\" class=\"dataframe\">\n",
       "  <thead>\n",
       "    <tr style=\"text-align: right;\">\n",
       "      <th></th>\n",
       "      <th>gender</th>\n",
       "      <th>outlet_sub_category</th>\n",
       "      <th>outlet_category</th>\n",
       "      <th>user_color_status</th>\n",
       "    </tr>\n",
       "  </thead>\n",
       "  <tbody>\n",
       "    <tr>\n",
       "      <th>gender</th>\n",
       "      <td>1.000000</td>\n",
       "      <td>-0.136217</td>\n",
       "      <td>-0.181225</td>\n",
       "      <td>0.043154</td>\n",
       "    </tr>\n",
       "    <tr>\n",
       "      <th>outlet_sub_category</th>\n",
       "      <td>-0.136217</td>\n",
       "      <td>1.000000</td>\n",
       "      <td>0.344109</td>\n",
       "      <td>-0.004138</td>\n",
       "    </tr>\n",
       "    <tr>\n",
       "      <th>outlet_category</th>\n",
       "      <td>-0.181225</td>\n",
       "      <td>0.344109</td>\n",
       "      <td>1.000000</td>\n",
       "      <td>-0.019664</td>\n",
       "    </tr>\n",
       "    <tr>\n",
       "      <th>user_color_status</th>\n",
       "      <td>0.043154</td>\n",
       "      <td>-0.004138</td>\n",
       "      <td>-0.019664</td>\n",
       "      <td>1.000000</td>\n",
       "    </tr>\n",
       "  </tbody>\n",
       "</table>\n",
       "</div>"
      ],
      "text/plain": [
       "                       gender  outlet_sub_category  outlet_category  \\\n",
       "gender               1.000000            -0.136217        -0.181225   \n",
       "outlet_sub_category -0.136217             1.000000         0.344109   \n",
       "outlet_category     -0.181225             0.344109         1.000000   \n",
       "user_color_status    0.043154            -0.004138        -0.019664   \n",
       "\n",
       "                     user_color_status  \n",
       "gender                        0.043154  \n",
       "outlet_sub_category          -0.004138  \n",
       "outlet_category              -0.019664  \n",
       "user_color_status             1.000000  "
      ]
     },
     "execution_count": 58,
     "metadata": {},
     "output_type": "execute_result"
    }
   ],
   "source": [
    "hight_corr = ['gender','outlet_sub_category','outlet_category','user_color_status']\n",
    "\n",
    "df_clean[hight_corr].corr()"
   ]
  },
  {
   "cell_type": "code",
   "execution_count": 59,
   "id": "01912ffa",
   "metadata": {},
   "outputs": [
    {
     "data": {
      "image/png": "[encoded data removed]",
      "text/plain": [
       "<Figure size 720x576 with 2 Axes>"
      ]
     },
     "metadata": {
      "needs_background": "light"
     },
     "output_type": "display_data"
    }
   ],
   "source": [
    "plt.figure(figsize=(10,8))\n",
    "sns.heatmap(df_clean[hight_corr].corr(), annot=True)\n",
    "plt.show()"
   ]
  },
  {
   "cell_type": "code",
   "execution_count": null,
   "id": "20d75f54",
   "metadata": {},
   "outputs": [],
   "source": []
  }
 ],
 "metadata": {
  "kernelspec": {
   "display_name": "Python 3 (ipykernel)",
   "language": "python",
   "name": "python3"
  },
  "language_info": {
   "codemirror_mode": {
    "name": "ipython",
    "version": 3
   },
   "file_extension": ".py",
   "mimetype": "text/x-python",
   "name": "python",
   "nbconvert_exporter": "python",
   "pygments_lexer": "ipython3",
   "version": "3.9.12"
  }
 },
 "nbformat": 4,
 "nbformat_minor": 5
}
